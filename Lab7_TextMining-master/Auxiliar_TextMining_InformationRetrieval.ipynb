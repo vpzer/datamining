{
 "cells": [
  {
   "cell_type": "markdown",
   "metadata": {},
   "source": [
    "# Information Retrieval\n",
    "\n",
    "**Information Retrieval**: ciencia de búscar información en una colección de fuentes de información.\n",
    "\n",
    "En este caso estamos interesados en búscar documentos similares dado un documento de búsqueda, para esto, primero necesitamos entender cómo podemos comparar de documentos.\n"
   ]
  },
  {
   "cell_type": "code",
   "execution_count": 1,
   "metadata": {},
   "outputs": [
    {
     "name": "stderr",
     "output_type": "stream",
     "text": [
      "C:\\Users\\diego\\Anaconda3\\lib\\site-packages\\gensim\\utils.py:1197: UserWarning: detected Windows; aliasing chunkize to chunkize_serial\n",
      "  warnings.warn(\"detected Windows; aliasing chunkize to chunkize_serial\")\n"
     ]
    }
   ],
   "source": [
    "import numpy as np\n",
    "from numpy.linalg import norm\n",
    "import operator\n",
    "import itertools\n",
    "import pandas as pd\n",
    "import matplotlib.pyplot as plt\n",
    "\n",
    "#Preprocesamiento\n",
    "import re\n",
    "import spacy\n",
    "from spacy.lang.es.stop_words import STOP_WORDS #importa set de stopwords\n",
    "from nltk.stem import SnowballStemmer #importa stemmer\n",
    "nlp = spacy.load('es_core_news_sm') #Ejecutar antes: python -m spacy download es\n",
    "\n",
    "#Bag-of-words\n",
    "from sklearn.feature_extraction.text import CountVectorizer  \n",
    "from sklearn.feature_extraction.text import TfidfVectorizer\n",
    "\n",
    "#Clasificación\n",
    "from sklearn.model_selection import train_test_split\n",
    "from sklearn.neighbors import KNeighborsClassifier\n",
    "from sklearn.utils import check_array\n",
    "from sklearn.preprocessing import normalize\n",
    "from sklearn.metrics import euclidean_distances\n",
    "from sklearn.model_selection import GridSearchCV\n",
    "from sklearn.pipeline import Pipeline\n",
    "from sklearn.metrics import confusion_matrix, f1_score, classification_report\n",
    "\n",
    "#Information Retrieval\n",
    "from sklearn.decomposition import PCA\n",
    "from gensim.models.fasttext import FastText\n",
    "from gensim.models.keyedvectors import KeyedVectors \n",
    "import pyemd #implementación rápida de EMD, dependencia de wmd de gensim\n",
    "from sklearn.neighbors import NearestNeighbors\n",
    "\n",
    "#Aceleramiento\n",
    "from joblib import Parallel, delayed\n",
    "from numba import jit"
   ]
  },
  {
   "cell_type": "markdown",
   "metadata": {},
   "source": [
    "\n",
    "\n",
    "## 1. Algunas medidas de distancia y similitud\n",
    "\n",
    "1. Medidas de distanca como la norma $L_{1}$ (Manhattan) y $L_{2}$ (Euclidean):\n",
    "\n",
    "\\begin{equation*}\n",
    "L_{1}(x,y)=\\sum_{i=1}^{M}|x_{i}-y_{i}|, \\; L_{2}(x,y)=\\sqrt{\\sum_{i=1}^{M}|x_{i}-y_{i}|^{2}}\n",
    "\\end{equation*}\n",
    "\n",
    "2. Generalización de las medidas anteriores es la Minkowski:\n",
    "\n",
    "\\begin{equation*}\n",
    " L_{p}(x,y)=(\\sum_{i=1}^{M}|x_{i}-y_{i}|^{p})^{\\frac{1}{p}}\n",
    "\\end{equation*}\n",
    "\n",
    "3. Similitud coseno:\n",
    "\n",
    "\\begin{equation*}\n",
    "cos(x,y) = \\frac{x\\cdot y}{\\| x\\|\\| y\\|}\n",
    "\\end{equation*}\n",
    "\n",
    "4. Similitud euclideana:\n",
    "\n",
    "\\begin{equation*}\n",
    "s_{L_{2}} = \\frac{1}{1+L_{2}(x,y)}\n",
    "\\end{equation*}\n",
    "\n",
    "\n",
    "En el caso de las medidas de distancia mientras mayor es la distancia entre dos vectores mayor es la disimilitud y en el caso de que la distancia es 0 se dice que los vectores son idénticos, por otro lado en las medidas de similitud como la coseno va entre [-1, 1], donde 1 significa que dos vectores son idénticos, -1 que son opuestos."
   ]
  },
  {
   "cell_type": "code",
   "execution_count": 2,
   "metadata": {},
   "outputs": [],
   "source": [
    "#similitud entre vectores\n",
    "@jit\n",
    "def l1_distance(x,y):\n",
    "    return np.abs(x-y).sum()\n",
    "@jit                  \n",
    "def l2_distance(x,y):\n",
    "    return norm(x-y)\n",
    "@jit\n",
    "def cos(x,y):\n",
    "    return np.dot(x,y)/(norm(x)*norm(y))\n",
    "@jit\n",
    "def l2_similarity(x,y):\n",
    "    return 1/(1+l2_distance(x,y))\n",
    "\n",
    "\n",
    "def l1_matrix(x):\n",
    "    d = np.sum(np.abs(x[:, np.newaxis, :] - x[np.newaxis, :, :]), axis = -1)\n",
    "    return d\n",
    "              \n",
    "def l2_matrix(x):\n",
    "    d = np.sqrt(np.sum((x[:, np.newaxis, :] - x[np.newaxis, :, :])**2, axis = -1))\n",
    "    return d\n",
    "\n",
    "def cos_matrix(x):\n",
    "    num = np.sum(x[:, np.newaxis, :]*x[np.newaxis, :, :], axis=-1)\n",
    "    den1 = np.linalg.norm(x, axis=1)\n",
    "    den2 = np.linalg.norm(x, axis=1)\n",
    "    den = den1[:, np.newaxis]*den2[np.newaxis, :]\n",
    "    d = num/den\n",
    "    return d\n",
    "\n",
    "def l2_similarity_matrix(x):\n",
    "    return 1/(1+l2_matrix(x))"
   ]
  },
  {
   "cell_type": "markdown",
   "metadata": {},
   "source": [
    "### Base de datos\n",
    "La base de datos consiste de 5 conjuntos de noticias extraídas de la radio biobio. \n",
    "Cada conjunto de noticias contiene 200 documentos (noticias) y tiene asociado una categoría en {nacional, internacional, economía, sociedad, opinion}.\n",
    "\n",
    "**Creditos**: \n",
    "\n",
    "- Pablo Badilla Torrealba \n",
    "- https://github.com/dccuchile/CC6205/tree/master/tutorials"
   ]
  },
  {
   "cell_type": "code",
   "execution_count": 3,
   "metadata": {},
   "outputs": [],
   "source": [
    "df = pd.read_csv('news_biobio.csv', index_col=0)"
   ]
  },
  {
   "cell_type": "markdown",
   "metadata": {},
   "source": [
    "## 2. Bag-of-words\n",
    "\n",
    "Con el modelo bag-of-words obtenemos representaciones vectoriales de los documentos que podemos utilizar para calcular similitud (o disimilitud) entre documentos.\n",
    "\n",
    "Desventajas:\n",
    "1. Vectores sparse, dos vectores de documentos son casi ortogonales, por lo que la similitud puede ser baja.\n",
    "2. No captura distancias entre palabras, palabras que son sinónimos ocupan un token diferente. Un ejemplo del caso anterior es cuando tenemos dos documentos que no tienen palabras en común, pero dicen lo mismo, solo que uno ocupa sinónimos de todas las palabras del otro, los vectores serían ortogonales y la similitud coseno es 0.\n"
   ]
  },
  {
   "cell_type": "code",
   "execution_count": 4,
   "metadata": {},
   "outputs": [],
   "source": [
    "##Funciones recicladas del capitulo Vector Space Model\n",
    "\n",
    "def tokenizer(doc, sep=None, stopwords_remove =False, lemmatization=False, stemming = False, vocabulary=None):\n",
    "    '''\n",
    "    Por defecto divide la sentencia por el carácter espacio.\n",
    "    Ej: 'Data Mining is the best course'->['Data',  'Mining', 'is', 'the', 'best', 'course']\n",
    "    \n",
    "    Input: \n",
    "    1. doc: str, documento.\n",
    "    2. sep: str, carácter para dividir el documento en tokens, por defecto es el espacio.\n",
    "    3. stopwords_remove: bool, si es True remueve los stopwords del documento.\n",
    "    4. lemmatization: bool, si es True lleva las palabras a su lema.\n",
    "    5. stemming: bool, si es True lleva las palabas a su raíz.\n",
    "    6. vocabuary: list, si un vocabulario es dado filtra las palabras que no estan presentes en el.\n",
    "    \n",
    "    Output: \n",
    "    list, lista de tokens.\n",
    "    '''\n",
    "    doc = re.sub(r'[^\\w\\s]','', doc) #elimina los símbolos de puntuación\n",
    "    doc = re.sub(r'[a-zA-Z]+[0-9]+', '', doc) #elimina los caracteres que contienen letras y números\n",
    "    doc = re.sub(r'[0-9]+', ' ', doc) #elimina los caracteres numéricos\n",
    "   \n",
    "    tokens = doc.split(sep) #tokenización\n",
    "    tokens = [word.lower() for word in tokens] #pasar todas las palabras a minúsculas\n",
    "    \n",
    "    \n",
    "    \n",
    "    if stopwords_remove ==True: #remover stopwords y palabras con menos de tres caracteres\n",
    "        tokens = [word for word in tokens if word not in STOP_WORDS and len(word)>2]\n",
    "    \n",
    "    if lemmatization==True:\n",
    "        tokens = [nlp(word)[0].lemma_ for word in tokens]\n",
    "        \n",
    "    if stemming == True:\n",
    "        stemmer = SnowballStemmer('spanish')\n",
    "        tokens = [stemmer.stem(word) for word in tokens]\n",
    "    \n",
    "    if vocabulary is not None:\n",
    "        tokens = [word for word in tokens if word in vocabulary]\n",
    "    \n",
    "    return tokens\n"
   ]
  },
  {
   "cell_type": "code",
   "execution_count": 5,
   "metadata": {},
   "outputs": [
    {
     "name": "stdout",
     "output_type": "stream",
     "text": [
      "Tamaño del vocabulario: 3057\n"
     ]
    }
   ],
   "source": [
    "#Creamos los objetos que permiten llevar el corpus a un modelo bag-of-words\n",
    "args = {\"stopwords_remove\": True, 'stemming':True}\n",
    "tf_vectorizer = CountVectorizer(analyzer='word', tokenizer=lambda text: tokenizer(text, **args))\n",
    "tfidf_vectorizer = TfidfVectorizer(analyzer='word', tokenizer=lambda text: tokenizer(text, **args))\n",
    "\n",
    "tf_vectorizer.fit_transform(df.title)\n",
    "tfidf_vectorizer.fit_transform(df.title)\n",
    "print('Tamaño del vocabulario:', len(tf_vectorizer.vocabulary_))"
   ]
  },
  {
   "cell_type": "code",
   "execution_count": 6,
   "metadata": {},
   "outputs": [
    {
     "data": {
      "text/html": [
       "<div>\n",
       "<style scoped>\n",
       "    .dataframe tbody tr th:only-of-type {\n",
       "        vertical-align: middle;\n",
       "    }\n",
       "\n",
       "    .dataframe tbody tr th {\n",
       "        vertical-align: top;\n",
       "    }\n",
       "\n",
       "    .dataframe thead th {\n",
       "        text-align: right;\n",
       "    }\n",
       "</style>\n",
       "<table border=\"1\" class=\"dataframe\">\n",
       "  <thead>\n",
       "    <tr style=\"text-align: right;\">\n",
       "      <th></th>\n",
       "      <th>title</th>\n",
       "      <th>category</th>\n",
       "    </tr>\n",
       "  </thead>\n",
       "  <tbody>\n",
       "    <tr>\n",
       "      <th>0</th>\n",
       "      <td>Empresarios admiten que inmigración ha provocado impacto en los salarios y en cifras de desempleo</td>\n",
       "      <td>Economia</td>\n",
       "    </tr>\n",
       "    <tr>\n",
       "      <th>1</th>\n",
       "      <td>Desocupación en el Bío Bío baja a 6,7%: administración pública y salud generaron nuevos empleos</td>\n",
       "      <td>Economia</td>\n",
       "    </tr>\n",
       "    <tr>\n",
       "      <th>2</th>\n",
       "      <td>Desempleo se mantiene por sobre el 7%</td>\n",
       "      <td>Economia</td>\n",
       "    </tr>\n",
       "    <tr>\n",
       "      <th>3</th>\n",
       "      <td>Habla director de Compin Bío Bío que se autoaprobó licencia: afirma que no se percató que era suya</td>\n",
       "      <td>Nacional</td>\n",
       "    </tr>\n",
       "    <tr>\n",
       "      <th>4</th>\n",
       "      <td>Hombre de 65 años inventó aviso de bomba en un avión por insólita razón: quería cita con una azafata</td>\n",
       "      <td>Sociedad</td>\n",
       "    </tr>\n",
       "    <tr>\n",
       "      <th>5</th>\n",
       "      <td>Profesor desvinculado tras pedir leer a Lemebel será indemnizado: No puedo volver a Independencia</td>\n",
       "      <td>Opinion</td>\n",
       "    </tr>\n",
       "  </tbody>\n",
       "</table>\n",
       "</div>"
      ],
      "text/plain": [
       "                                                                                                  title  \\\n",
       "0  Empresarios admiten que inmigración ha provocado impacto en los salarios y en cifras de desempleo      \n",
       "1  Desocupación en el Bío Bío baja a 6,7%: administración pública y salud generaron nuevos empleos        \n",
       "2  Desempleo se mantiene por sobre el 7%                                                                  \n",
       "3  Habla director de Compin Bío Bío que se autoaprobó licencia: afirma que no se percató que era suya     \n",
       "4  Hombre de 65 años inventó aviso de bomba en un avión por insólita razón: quería cita con una azafata   \n",
       "5  Profesor desvinculado tras pedir leer a Lemebel será indemnizado: No puedo volver a Independencia      \n",
       "\n",
       "   category  \n",
       "0  Economia  \n",
       "1  Economia  \n",
       "2  Economia  \n",
       "3  Nacional  \n",
       "4  Sociedad  \n",
       "5  Opinion   "
      ]
     },
     "execution_count": 6,
     "metadata": {},
     "output_type": "execute_result"
    }
   ],
   "source": [
    "#Documentos a estudiar\n",
    "doc1, label1 = df[df['category']=='Economia'][['title', 'category']].iloc[1]\n",
    "doc2, label2 = df[df['category']=='Economia'][['title', 'category']].iloc[2]\n",
    "doc3, label3 = df[df['category']=='Economia'][['title', 'category']].iloc[20]\n",
    "doc4, label4 = df[df['category']=='Nacional'][['title', 'category']].iloc[2]\n",
    "doc5, label5 = df[df['category']=='Sociedad'][['title', 'category']].iloc[192]\n",
    "doc6, label6 = df[df['category']=='Opinion'][['title', 'category']].iloc[4]\n",
    "docs_list = [doc1, doc2, doc3, doc4, doc5, doc6]\n",
    "docs_label = [label1, label2, label3, label4, label5, label6]\n",
    "docs_df = pd.DataFrame({'title':pd.Series(docs_list), 'category':pd.Series(docs_label)})\n",
    "pd.set_option('display.max_colwidth', -1)\n",
    "docs_df"
   ]
  },
  {
   "cell_type": "code",
   "execution_count": 7,
   "metadata": {},
   "outputs": [
    {
     "data": {
      "text/plain": [
       "(6, 3057)"
      ]
     },
     "execution_count": 7,
     "metadata": {},
     "output_type": "execute_result"
    }
   ],
   "source": [
    "#Obtener vector de los documentos\n",
    "tf = tf_vectorizer.transform(docs_list)\n",
    "tf.shape # (corpus_size, voc_size)"
   ]
  },
  {
   "cell_type": "code",
   "execution_count": 8,
   "metadata": {},
   "outputs": [
    {
     "data": {
      "text/html": [
       "<div>\n",
       "<style scoped>\n",
       "    .dataframe tbody tr th:only-of-type {\n",
       "        vertical-align: middle;\n",
       "    }\n",
       "\n",
       "    .dataframe tbody tr th {\n",
       "        vertical-align: top;\n",
       "    }\n",
       "\n",
       "    .dataframe thead th {\n",
       "        text-align: right;\n",
       "    }\n",
       "</style>\n",
       "<table border=\"1\" class=\"dataframe\">\n",
       "  <thead>\n",
       "    <tr style=\"text-align: right;\">\n",
       "      <th></th>\n",
       "      <th>0</th>\n",
       "      <th>1</th>\n",
       "      <th>2</th>\n",
       "      <th>3</th>\n",
       "      <th>4</th>\n",
       "      <th>5</th>\n",
       "    </tr>\n",
       "  </thead>\n",
       "  <tbody>\n",
       "    <tr>\n",
       "      <th>0</th>\n",
       "      <td>1.00</td>\n",
       "      <td>0.000000</td>\n",
       "      <td>0.25</td>\n",
       "      <td>0.000000</td>\n",
       "      <td>0.0</td>\n",
       "      <td>0.0</td>\n",
       "    </tr>\n",
       "    <tr>\n",
       "      <th>1</th>\n",
       "      <td>0.00</td>\n",
       "      <td>1.000000</td>\n",
       "      <td>0.00</td>\n",
       "      <td>0.381385</td>\n",
       "      <td>0.0</td>\n",
       "      <td>0.0</td>\n",
       "    </tr>\n",
       "    <tr>\n",
       "      <th>2</th>\n",
       "      <td>0.25</td>\n",
       "      <td>0.000000</td>\n",
       "      <td>1.00</td>\n",
       "      <td>0.000000</td>\n",
       "      <td>0.0</td>\n",
       "      <td>0.0</td>\n",
       "    </tr>\n",
       "    <tr>\n",
       "      <th>3</th>\n",
       "      <td>0.00</td>\n",
       "      <td>0.381385</td>\n",
       "      <td>0.00</td>\n",
       "      <td>1.000000</td>\n",
       "      <td>0.0</td>\n",
       "      <td>0.0</td>\n",
       "    </tr>\n",
       "    <tr>\n",
       "      <th>4</th>\n",
       "      <td>0.00</td>\n",
       "      <td>0.000000</td>\n",
       "      <td>0.00</td>\n",
       "      <td>0.000000</td>\n",
       "      <td>1.0</td>\n",
       "      <td>0.0</td>\n",
       "    </tr>\n",
       "    <tr>\n",
       "      <th>5</th>\n",
       "      <td>0.00</td>\n",
       "      <td>0.000000</td>\n",
       "      <td>0.00</td>\n",
       "      <td>0.000000</td>\n",
       "      <td>0.0</td>\n",
       "      <td>1.0</td>\n",
       "    </tr>\n",
       "  </tbody>\n",
       "</table>\n",
       "</div>"
      ],
      "text/plain": [
       "      0         1     2         3    4    5\n",
       "0  1.00  0.000000  0.25  0.000000  0.0  0.0\n",
       "1  0.00  1.000000  0.00  0.381385  0.0  0.0\n",
       "2  0.25  0.000000  1.00  0.000000  0.0  0.0\n",
       "3  0.00  0.381385  0.00  1.000000  0.0  0.0\n",
       "4  0.00  0.000000  0.00  0.000000  1.0  0.0\n",
       "5  0.00  0.000000  0.00  0.000000  0.0  1.0"
      ]
     },
     "execution_count": 8,
     "metadata": {},
     "output_type": "execute_result"
    }
   ],
   "source": [
    "#matriz de similitud coseno entre documentos\n",
    "pd.DataFrame(cos_matrix(tf.toarray()))"
   ]
  },
  {
   "cell_type": "code",
   "execution_count": 9,
   "metadata": {},
   "outputs": [
    {
     "data": {
      "text/html": [
       "<div>\n",
       "<style scoped>\n",
       "    .dataframe tbody tr th:only-of-type {\n",
       "        vertical-align: middle;\n",
       "    }\n",
       "\n",
       "    .dataframe tbody tr th {\n",
       "        vertical-align: top;\n",
       "    }\n",
       "\n",
       "    .dataframe thead th {\n",
       "        text-align: right;\n",
       "    }\n",
       "</style>\n",
       "<table border=\"1\" class=\"dataframe\">\n",
       "  <thead>\n",
       "    <tr style=\"text-align: right;\">\n",
       "      <th></th>\n",
       "      <th>0</th>\n",
       "      <th>1</th>\n",
       "      <th>2</th>\n",
       "      <th>3</th>\n",
       "      <th>4</th>\n",
       "      <th>5</th>\n",
       "    </tr>\n",
       "  </thead>\n",
       "  <tbody>\n",
       "    <tr>\n",
       "      <th>0</th>\n",
       "      <td>1.000000</td>\n",
       "      <td>0.186605</td>\n",
       "      <td>0.261204</td>\n",
       "      <td>0.190744</td>\n",
       "      <td>0.186605</td>\n",
       "      <td>0.200000</td>\n",
       "    </tr>\n",
       "    <tr>\n",
       "      <th>1</th>\n",
       "      <td>0.186605</td>\n",
       "      <td>1.000000</td>\n",
       "      <td>0.217129</td>\n",
       "      <td>0.217129</td>\n",
       "      <td>0.175734</td>\n",
       "      <td>0.186605</td>\n",
       "    </tr>\n",
       "    <tr>\n",
       "      <th>2</th>\n",
       "      <td>0.261204</td>\n",
       "      <td>0.217129</td>\n",
       "      <td>1.000000</td>\n",
       "      <td>0.224009</td>\n",
       "      <td>0.217129</td>\n",
       "      <td>0.240253</td>\n",
       "    </tr>\n",
       "    <tr>\n",
       "      <th>3</th>\n",
       "      <td>0.190744</td>\n",
       "      <td>0.217129</td>\n",
       "      <td>0.224009</td>\n",
       "      <td>1.000000</td>\n",
       "      <td>0.179129</td>\n",
       "      <td>0.190744</td>\n",
       "    </tr>\n",
       "    <tr>\n",
       "      <th>4</th>\n",
       "      <td>0.186605</td>\n",
       "      <td>0.175734</td>\n",
       "      <td>0.217129</td>\n",
       "      <td>0.179129</td>\n",
       "      <td>1.000000</td>\n",
       "      <td>0.186605</td>\n",
       "    </tr>\n",
       "    <tr>\n",
       "      <th>5</th>\n",
       "      <td>0.200000</td>\n",
       "      <td>0.186605</td>\n",
       "      <td>0.240253</td>\n",
       "      <td>0.190744</td>\n",
       "      <td>0.186605</td>\n",
       "      <td>1.000000</td>\n",
       "    </tr>\n",
       "  </tbody>\n",
       "</table>\n",
       "</div>"
      ],
      "text/plain": [
       "          0         1         2         3         4         5\n",
       "0  1.000000  0.186605  0.261204  0.190744  0.186605  0.200000\n",
       "1  0.186605  1.000000  0.217129  0.217129  0.175734  0.186605\n",
       "2  0.261204  0.217129  1.000000  0.224009  0.217129  0.240253\n",
       "3  0.190744  0.217129  0.224009  1.000000  0.179129  0.190744\n",
       "4  0.186605  0.175734  0.217129  0.179129  1.000000  0.186605\n",
       "5  0.200000  0.186605  0.240253  0.190744  0.186605  1.000000"
      ]
     },
     "execution_count": 9,
     "metadata": {},
     "output_type": "execute_result"
    }
   ],
   "source": [
    "#matriz de similitud euclideana entre documentos\n",
    "pd.DataFrame(l2_similarity_matrix(tf.toarray()))"
   ]
  },
  {
   "cell_type": "markdown",
   "metadata": {},
   "source": [
    "Se observa que una gran cantidad de vectores ortogonales bajo similitud coseno.\n",
    "Bajo similitud euclideana casi todos los documentos son casi igual de similares.\n",
    "\n",
    " - Notar que el documento 2 y 4 tienen una alta similitud, esto se debe a la coincidencia de una palabra (Bío) a pesar de que hablan de temas completamente distintos.\n",
    "\n",
    "- En documentos más largos como el contenido de la noticia es más fácil que los vectores no sean ortogonales ya que la probabilidad de encontrar palabras que se repiten en ambos documentos es mayor."
   ]
  },
  {
   "cell_type": "code",
   "execution_count": 10,
   "metadata": {},
   "outputs": [
    {
     "data": {
      "text/plain": [
       "(6, 3057)"
      ]
     },
     "execution_count": 10,
     "metadata": {},
     "output_type": "execute_result"
    }
   ],
   "source": [
    "#Obtener vector de los documentos\n",
    "tfidf = tfidf_vectorizer.transform(docs_list)\n",
    "tfidf.shape #4 documentos y 3623 columnas (tamaño del vocabulario)"
   ]
  },
  {
   "cell_type": "code",
   "execution_count": 11,
   "metadata": {},
   "outputs": [
    {
     "data": {
      "text/html": [
       "<div>\n",
       "<style scoped>\n",
       "    .dataframe tbody tr th:only-of-type {\n",
       "        vertical-align: middle;\n",
       "    }\n",
       "\n",
       "    .dataframe tbody tr th {\n",
       "        vertical-align: top;\n",
       "    }\n",
       "\n",
       "    .dataframe thead th {\n",
       "        text-align: right;\n",
       "    }\n",
       "</style>\n",
       "<table border=\"1\" class=\"dataframe\">\n",
       "  <thead>\n",
       "    <tr style=\"text-align: right;\">\n",
       "      <th></th>\n",
       "      <th>0</th>\n",
       "      <th>1</th>\n",
       "      <th>2</th>\n",
       "      <th>3</th>\n",
       "      <th>4</th>\n",
       "      <th>5</th>\n",
       "    </tr>\n",
       "  </thead>\n",
       "  <tbody>\n",
       "    <tr>\n",
       "      <th>0</th>\n",
       "      <td>1.000000</td>\n",
       "      <td>0.000000</td>\n",
       "      <td>0.244152</td>\n",
       "      <td>0.000000</td>\n",
       "      <td>0.0</td>\n",
       "      <td>0.0</td>\n",
       "    </tr>\n",
       "    <tr>\n",
       "      <th>1</th>\n",
       "      <td>0.000000</td>\n",
       "      <td>1.000000</td>\n",
       "      <td>0.000000</td>\n",
       "      <td>0.317775</td>\n",
       "      <td>0.0</td>\n",
       "      <td>0.0</td>\n",
       "    </tr>\n",
       "    <tr>\n",
       "      <th>2</th>\n",
       "      <td>0.244152</td>\n",
       "      <td>0.000000</td>\n",
       "      <td>1.000000</td>\n",
       "      <td>0.000000</td>\n",
       "      <td>0.0</td>\n",
       "      <td>0.0</td>\n",
       "    </tr>\n",
       "    <tr>\n",
       "      <th>3</th>\n",
       "      <td>0.000000</td>\n",
       "      <td>0.317775</td>\n",
       "      <td>0.000000</td>\n",
       "      <td>1.000000</td>\n",
       "      <td>0.0</td>\n",
       "      <td>0.0</td>\n",
       "    </tr>\n",
       "    <tr>\n",
       "      <th>4</th>\n",
       "      <td>0.000000</td>\n",
       "      <td>0.000000</td>\n",
       "      <td>0.000000</td>\n",
       "      <td>0.000000</td>\n",
       "      <td>1.0</td>\n",
       "      <td>0.0</td>\n",
       "    </tr>\n",
       "    <tr>\n",
       "      <th>5</th>\n",
       "      <td>0.000000</td>\n",
       "      <td>0.000000</td>\n",
       "      <td>0.000000</td>\n",
       "      <td>0.000000</td>\n",
       "      <td>0.0</td>\n",
       "      <td>1.0</td>\n",
       "    </tr>\n",
       "  </tbody>\n",
       "</table>\n",
       "</div>"
      ],
      "text/plain": [
       "          0         1         2         3    4    5\n",
       "0  1.000000  0.000000  0.244152  0.000000  0.0  0.0\n",
       "1  0.000000  1.000000  0.000000  0.317775  0.0  0.0\n",
       "2  0.244152  0.000000  1.000000  0.000000  0.0  0.0\n",
       "3  0.000000  0.317775  0.000000  1.000000  0.0  0.0\n",
       "4  0.000000  0.000000  0.000000  0.000000  1.0  0.0\n",
       "5  0.000000  0.000000  0.000000  0.000000  0.0  1.0"
      ]
     },
     "execution_count": 11,
     "metadata": {},
     "output_type": "execute_result"
    }
   ],
   "source": [
    "#matriz de similitud coseno entre documentos\n",
    "pd.DataFrame(cos_matrix(tfidf.toarray()))"
   ]
  },
  {
   "cell_type": "code",
   "execution_count": 12,
   "metadata": {},
   "outputs": [
    {
     "data": {
      "text/html": [
       "<div>\n",
       "<style scoped>\n",
       "    .dataframe tbody tr th:only-of-type {\n",
       "        vertical-align: middle;\n",
       "    }\n",
       "\n",
       "    .dataframe tbody tr th {\n",
       "        vertical-align: top;\n",
       "    }\n",
       "\n",
       "    .dataframe thead th {\n",
       "        text-align: right;\n",
       "    }\n",
       "</style>\n",
       "<table border=\"1\" class=\"dataframe\">\n",
       "  <thead>\n",
       "    <tr style=\"text-align: right;\">\n",
       "      <th></th>\n",
       "      <th>0</th>\n",
       "      <th>1</th>\n",
       "      <th>2</th>\n",
       "      <th>3</th>\n",
       "      <th>4</th>\n",
       "      <th>5</th>\n",
       "    </tr>\n",
       "  </thead>\n",
       "  <tbody>\n",
       "    <tr>\n",
       "      <th>0</th>\n",
       "      <td>1.000000</td>\n",
       "      <td>0.414214</td>\n",
       "      <td>0.448529</td>\n",
       "      <td>0.414214</td>\n",
       "      <td>0.414214</td>\n",
       "      <td>0.414214</td>\n",
       "    </tr>\n",
       "    <tr>\n",
       "      <th>1</th>\n",
       "      <td>0.414214</td>\n",
       "      <td>1.000000</td>\n",
       "      <td>0.414214</td>\n",
       "      <td>0.461234</td>\n",
       "      <td>0.414214</td>\n",
       "      <td>0.414214</td>\n",
       "    </tr>\n",
       "    <tr>\n",
       "      <th>2</th>\n",
       "      <td>0.448529</td>\n",
       "      <td>0.414214</td>\n",
       "      <td>1.000000</td>\n",
       "      <td>0.414214</td>\n",
       "      <td>0.414214</td>\n",
       "      <td>0.414214</td>\n",
       "    </tr>\n",
       "    <tr>\n",
       "      <th>3</th>\n",
       "      <td>0.414214</td>\n",
       "      <td>0.461234</td>\n",
       "      <td>0.414214</td>\n",
       "      <td>1.000000</td>\n",
       "      <td>0.414214</td>\n",
       "      <td>0.414214</td>\n",
       "    </tr>\n",
       "    <tr>\n",
       "      <th>4</th>\n",
       "      <td>0.414214</td>\n",
       "      <td>0.414214</td>\n",
       "      <td>0.414214</td>\n",
       "      <td>0.414214</td>\n",
       "      <td>1.000000</td>\n",
       "      <td>0.414214</td>\n",
       "    </tr>\n",
       "    <tr>\n",
       "      <th>5</th>\n",
       "      <td>0.414214</td>\n",
       "      <td>0.414214</td>\n",
       "      <td>0.414214</td>\n",
       "      <td>0.414214</td>\n",
       "      <td>0.414214</td>\n",
       "      <td>1.000000</td>\n",
       "    </tr>\n",
       "  </tbody>\n",
       "</table>\n",
       "</div>"
      ],
      "text/plain": [
       "          0         1         2         3         4         5\n",
       "0  1.000000  0.414214  0.448529  0.414214  0.414214  0.414214\n",
       "1  0.414214  1.000000  0.414214  0.461234  0.414214  0.414214\n",
       "2  0.448529  0.414214  1.000000  0.414214  0.414214  0.414214\n",
       "3  0.414214  0.461234  0.414214  1.000000  0.414214  0.414214\n",
       "4  0.414214  0.414214  0.414214  0.414214  1.000000  0.414214\n",
       "5  0.414214  0.414214  0.414214  0.414214  0.414214  1.000000"
      ]
     },
     "execution_count": 12,
     "metadata": {},
     "output_type": "execute_result"
    }
   ],
   "source": [
    "#matriz de similitud euclideana entre documentos\n",
    "pd.DataFrame(l2_similarity_matrix(tfidf.toarray()))"
   ]
  },
  {
   "cell_type": "markdown",
   "metadata": {},
   "source": [
    "Se observa que una gran cantidad de vectores ortogonales bajo similitud coseno.\n",
    "Bajo similitud euclideana casi todos los documentos son casi igual de similares."
   ]
  },
  {
   "cell_type": "markdown",
   "metadata": {},
   "source": [
    "## 3. Word Embeddings\n",
    "\n",
    "Los *Words Embedding* basados en predicción son principalmente arquitecturas de redes neuronales que \"aprenden\" la representación subyacente de las palabra, capturan la \"semántica\" de las palabras en una representación vectorial densa de baja dimensión y a partir de estos vectores se puede construir representaciones vectoriales de un texto (conjunto de palabras). \n",
    "\n",
    "- Para esta implementación se utilizarón los embedding obtenidos utilizando el algoritmo FasText sobre el corpus Spanish Billion Word Corpus.\n",
    "\n",
    "- Los emebeddings utilizados codifican la semántica de las palabras en un vector denso de dimensión 300.\n",
    "\n",
    "Link de descarga:\n",
    "https://github.com/dccuchile/spanish-word-embeddings\n",
    "\n",
    "\n",
    "- Mikolov, T., Chen, K., Corrado, G., & Dean, J. (2013). Efficient estimation of word representations in vector space. arXiv preprint arXiv:1301.3781.\n",
    "- Goldberg, Y., & Levy, O. (2014). word2vec Explained: deriving Mikolov et al.'s negative-sampling word-embedding method. arXiv preprint arXiv:1402.3722."
   ]
  },
  {
   "cell_type": "markdown",
   "metadata": {},
   "source": [
    "- Existen dos formas de cargar los vectores, primero es cargar todos los vectores desde el archivo binario (.bin) en su formato nativo de FastText. Esta opción es más demandante en recursos (tiempo y memoria), pero es mucho más versatil por ejemplo para obtener vectores para palabras que no se ecuentran en el vocabulario.\n"
   ]
  },
  {
   "cell_type": "code",
   "execution_count": 2,
   "metadata": {},
   "outputs": [
    {
     "name": "stderr",
     "output_type": "stream",
     "text": [
      "C:\\Users\\diego\\Anaconda3\\lib\\site-packages\\smart_open\\smart_open_lib.py:398: UserWarning: This function is deprecated, use smart_open.open instead. See the migration notes for details: https://github.com/RaRe-Technologies/smart_open/blob/master/README.rst#migrating-to-the-new-open-function\n",
      "  'See the migration notes for details: %s' % _MIGRATION_NOTES_URL\n"
     ]
    }
   ],
   "source": [
    "wordvectors_file = 'fasttext-sbwc.bin'\n",
    "model = FastText.load_fasttext_format(wordvectors_file)\n",
    "wordvectors = model.wv"
   ]
  },
  {
   "cell_type": "markdown",
   "metadata": {},
   "source": [
    "- La segunda forma, mucho más rápida, es cargar sólo una parte de los vectores. Para esto usamos el formato nativo de word2vec y cargamos una cantidad fija de vectores (se pueden cargar vectores generados por diversos métodos como FastText)."
   ]
  },
  {
   "cell_type": "code",
   "execution_count": 14,
   "metadata": {},
   "outputs": [],
   "source": [
    "# #Cargar vectores\n",
    "# wordvectors_file_vec = 'fasttext-sbwc.3.6.e20.vec'\n",
    "# cantidad = 100000 #cantidad de vectores a cargar\n",
    "# wordvectors = KeyedVectors.load_word2vec_format(wordvectors_file_vec, limit=cantidad)"
   ]
  },
  {
   "cell_type": "markdown",
   "metadata": {},
   "source": [
    "### 3.1 Similitud entre palabras\n",
    "\n",
    "Los word embeddings entregan representaciones vectoriales de las palabras, permitiendonos tener nociones de distancia entre estas, así podemos utilizar distancias tales como l1, l2 o la similitud coseno."
   ]
  },
  {
   "cell_type": "code",
   "execution_count": 15,
   "metadata": {
    "scrolled": true
   },
   "outputs": [
    {
     "data": {
      "text/plain": [
       "array([-2.57698685e-01, -3.05227446e-03, -4.21362191e-01, -1.02369852e-01,\n",
       "       -3.46166380e-02, -2.10825473e-01, -3.21935192e-02,  2.97198325e-01,\n",
       "       -2.24466085e-01, -7.13609084e-02, -5.35109222e-01, -2.18910053e-01,\n",
       "        6.13557883e-02, -7.37681240e-02,  1.66193143e-01,  5.66283846e-03,\n",
       "        2.42169306e-01, -2.58466631e-01,  1.29880279e-01,  4.64084484e-02,\n",
       "       -1.74548998e-01,  1.19527444e-01, -4.90019657e-02, -3.98389623e-02,\n",
       "       -1.80941708e-02, -3.97182196e-01,  2.72530526e-01, -4.55783486e-01,\n",
       "       -2.92190552e-01, -1.25448585e-01,  2.52285451e-01,  2.43016239e-02,\n",
       "       -2.83539504e-01,  2.52966404e-01, -6.71533525e-01, -8.53631459e-03,\n",
       "       -1.80770695e-01, -2.17426032e-01,  4.13519889e-01,  1.93564758e-01,\n",
       "       -4.64920029e-02, -7.48625547e-02, -1.04175456e-01,  1.51321843e-01,\n",
       "       -1.63956642e-01,  3.44364345e-01,  2.10140347e-02,  3.74083638e-01,\n",
       "        1.77878901e-01, -1.13907032e-01,  2.15061188e-01,  2.48354688e-01,\n",
       "       -2.50446528e-01,  2.42998987e-01, -3.95878792e-01, -1.84523135e-01,\n",
       "        1.83368623e-01, -2.19871178e-01,  2.56217897e-01, -1.79908216e-01,\n",
       "       -3.58314589e-02,  3.20654720e-01,  2.43356396e-02,  2.59848326e-01,\n",
       "        1.40522629e-01,  1.97743744e-01, -2.88981140e-01,  1.91611633e-01,\n",
       "        2.69845933e-01, -2.73582131e-01, -2.21724823e-01, -1.42782897e-01,\n",
       "       -8.94562826e-02, -6.72877654e-02, -1.30527494e-02, -4.37235057e-01,\n",
       "       -3.50289345e-02, -8.16535503e-02,  8.24208278e-03, -3.21450323e-01,\n",
       "       -5.41507080e-02,  2.65192352e-02,  6.80478406e-04, -6.36258423e-02,\n",
       "       -4.02969062e-01, -1.71301197e-02,  5.15731191e-03,  6.08816929e-02,\n",
       "       -3.90555635e-02, -3.86818796e-02,  3.52130085e-01,  2.63299346e-01,\n",
       "       -1.34541735e-01,  1.81610912e-01,  1.99263036e-01,  2.40852404e-02,\n",
       "       -1.23985531e-02, -2.57786959e-01,  1.26862124e-01, -1.26699477e-01,\n",
       "        9.78356376e-02,  1.62845135e-01, -6.08527586e-02, -1.52092859e-01,\n",
       "       -2.18188778e-01,  6.70004413e-02, -7.22326860e-02,  3.00470769e-01,\n",
       "        2.26396129e-01, -1.68284729e-01,  3.22683185e-01,  5.78723438e-02,\n",
       "       -1.61878735e-01, -7.74301365e-02, -1.23675250e-01, -9.15845260e-02,\n",
       "       -4.41506058e-01, -5.83332330e-02, -2.66260713e-01,  1.51505157e-01,\n",
       "       -3.09677292e-02,  7.03528710e-03,  1.63556755e-01, -2.90285259e-01,\n",
       "       -4.49149132e-01, -4.69902642e-02,  3.07009295e-02,  1.58704594e-01,\n",
       "       -5.72274625e-01,  2.64889076e-02,  7.68284276e-02,  4.66146439e-01,\n",
       "        3.81326280e-03,  1.29417509e-01,  2.15579003e-01,  6.35949448e-02,\n",
       "       -1.25163898e-03, -1.28252998e-01,  1.41517147e-01, -1.77838892e-01,\n",
       "       -2.21174676e-02, -2.68740863e-01, -2.56729275e-01, -2.52407730e-01,\n",
       "       -2.05854580e-01,  9.96097997e-02, -2.95379639e-01, -1.73140287e-01,\n",
       "       -3.29260230e-02, -2.69511968e-01,  7.71685913e-02,  2.27815937e-02,\n",
       "       -7.93250799e-02,  4.78501916e-02, -3.26312631e-02, -2.59182621e-02,\n",
       "       -8.39939564e-02,  2.03049377e-01,  7.45728537e-02, -3.84948134e-01,\n",
       "       -9.20298100e-02,  1.46215349e-01, -5.24856001e-02, -2.37643614e-01,\n",
       "        8.27697515e-02, -1.93184823e-01,  2.23535985e-01, -5.32045774e-02,\n",
       "        1.23053677e-01,  1.16957270e-01, -1.27268448e-01, -2.42101103e-01,\n",
       "        1.35357693e-01,  1.78293452e-01, -7.05460533e-02, -3.54823232e-01,\n",
       "       -1.08659528e-01, -1.05896927e-01, -3.94884199e-01, -1.70587286e-01,\n",
       "       -3.93573195e-01, -1.36836961e-01, -3.16231255e-03,  2.94997215e-01,\n",
       "       -3.63513157e-02, -3.98617357e-01, -3.65841746e-01, -4.42191064e-01,\n",
       "        6.25079498e-02, -1.65527001e-01,  2.54553169e-01,  1.21333279e-01,\n",
       "       -9.88774449e-02, -2.44696662e-01, -1.93551764e-01,  1.33313343e-01,\n",
       "       -1.12733282e-02,  1.25368387e-01,  5.64334616e-02,  4.66231108e-02,\n",
       "        2.07211241e-01, -2.38970801e-01, -1.02349058e-01,  3.23908418e-01,\n",
       "        2.37058802e-03,  2.29223855e-02, -9.47464764e-01,  1.48450315e-01,\n",
       "        1.99434459e-01,  1.73077341e-02,  2.97222286e-01, -1.12546057e-01,\n",
       "        7.14073181e-02,  2.36425936e-01,  4.80925702e-02,  4.15485233e-01,\n",
       "       -1.93249986e-01,  1.97833598e-01,  3.10844690e-01,  3.74073870e-02,\n",
       "        2.82907158e-01, -5.56428850e-01,  3.00281823e-01, -2.02569515e-01,\n",
       "        6.79074705e-01, -1.27562627e-01, -2.92227000e-01,  7.82291070e-02,\n",
       "        7.05204019e-03, -3.52689803e-01, -3.50417107e-01,  3.83436084e-01,\n",
       "        5.37474334e-01,  1.36693940e-01, -1.65779069e-01, -1.34623256e-02,\n",
       "        1.64187208e-01, -4.79138196e-01, -2.94965535e-01, -2.21847463e-02,\n",
       "       -7.42308795e-02, -7.41903335e-02,  2.90042102e-01,  2.33772501e-01,\n",
       "       -6.94658011e-02, -2.19140857e-01,  2.47019574e-01,  1.12857610e-01,\n",
       "        8.24507847e-02,  4.58491683e-01,  9.79953557e-02,  2.04366550e-01,\n",
       "       -3.63795161e-01, -1.32517844e-01, -2.50017256e-01, -1.13448776e-01,\n",
       "       -1.32127687e-01, -1.11828916e-01,  1.93255663e-01,  3.50826420e-02,\n",
       "        1.12903327e-01,  1.42016247e-01, -2.87530664e-02, -1.08053043e-01,\n",
       "       -2.21095279e-01,  7.34635293e-02, -2.37303033e-01, -2.58557163e-02,\n",
       "        2.29002967e-01,  6.65448308e-01,  1.42079398e-01, -2.30385333e-01,\n",
       "        1.49209887e-01,  8.54193866e-02, -1.56611010e-01, -1.11882083e-01,\n",
       "       -2.40528196e-01,  4.78662431e-01, -2.28638634e-01,  5.80676831e-02,\n",
       "        2.44466811e-01, -1.81428939e-01,  4.53154266e-01, -9.01895314e-02,\n",
       "       -1.15775904e-02,  2.80117184e-01,  2.04313755e-01,  1.51891515e-01,\n",
       "        1.54419512e-01, -1.89048737e-01,  2.11499378e-01, -4.59542900e-01,\n",
       "        1.46798611e-01,  2.16582879e-01, -1.28398761e-01, -3.69048566e-01,\n",
       "        2.32463300e-01, -2.94692218e-01,  3.15910764e-02,  6.09345660e-02],\n",
       "      dtype=float32)"
      ]
     },
     "execution_count": 15,
     "metadata": {},
     "output_type": "execute_result"
    }
   ],
   "source": [
    "reina = wordvectors['reina']\n",
    "reina"
   ]
  },
  {
   "cell_type": "code",
   "execution_count": 16,
   "metadata": {},
   "outputs": [
    {
     "data": {
      "text/plain": [
       "0.6821935772895813"
      ]
     },
     "execution_count": 16,
     "metadata": {},
     "output_type": "execute_result"
    }
   ],
   "source": [
    "#similitud entre vectores\n",
    "cos(wordvectors['reina'], wordvectors['rey'])"
   ]
  },
  {
   "cell_type": "code",
   "execution_count": 17,
   "metadata": {},
   "outputs": [
    {
     "data": {
      "text/plain": [
       "0.5953885912895203"
      ]
     },
     "execution_count": 17,
     "metadata": {},
     "output_type": "execute_result"
    }
   ],
   "source": [
    "cos(wordvectors['mujer'], wordvectors['hombre'])"
   ]
  },
  {
   "cell_type": "code",
   "execution_count": 18,
   "metadata": {},
   "outputs": [
    {
     "data": {
      "text/plain": [
       "0.7273405194282532"
      ]
     },
     "execution_count": 18,
     "metadata": {},
     "output_type": "execute_result"
    }
   ],
   "source": [
    "cos(wordvectors['perro'], wordvectors['gato'])"
   ]
  },
  {
   "cell_type": "code",
   "execution_count": 19,
   "metadata": {},
   "outputs": [
    {
     "data": {
      "text/plain": [
       "0.7661157250404358"
      ]
     },
     "execution_count": 19,
     "metadata": {},
     "output_type": "execute_result"
    }
   ],
   "source": [
    "cos(wordvectors['jugar'], wordvectors['jugaría'])"
   ]
  },
  {
   "cell_type": "code",
   "execution_count": 20,
   "metadata": {},
   "outputs": [
    {
     "data": {
      "text/plain": [
       "0.7047346234321594"
      ]
     },
     "execution_count": 20,
     "metadata": {},
     "output_type": "execute_result"
    }
   ],
   "source": [
    "cos(wordvectors['cantar'], wordvectors['cantaría'])"
   ]
  },
  {
   "cell_type": "code",
   "execution_count": 21,
   "metadata": {},
   "outputs": [
    {
     "data": {
      "text/plain": [
       "0.4480108618736267"
      ]
     },
     "execution_count": 21,
     "metadata": {},
     "output_type": "execute_result"
    }
   ],
   "source": [
    "cos(wordvectors['cantar'], wordvectors['jugar'])"
   ]
  },
  {
   "cell_type": "markdown",
   "metadata": {},
   "source": [
    "#### Búsqueda por analogías\n",
    "\n",
    "3CosMul: Medida de similitud utilizada para responder preguntas de analogías\n",
    "\n",
    "En analogías se tiene un conjunto $b^{*}$, $b$ (ej:reina, rey) y $a^{*}$, $a$ (ej:mujer, hombre), la intuición es que \n",
    "$b^{*}-b$ es similar a $a^{*}-a$ y que la operación $b-a+a^{*}$ debe dar un vector similar a $b^{*}$, entonces, el objetivo en busqueda de analogías es encontrar la palabra $b^{*}$ que máximiza una medida de similitud. La médida de similitud con más exito en esta tarea es 3Cosmul:\n",
    "\n",
    "\\begin{equation*}\n",
    "\\underset{b^{*}\\in V}{\\text{arg max}}\\frac{cos(b^{*}, b)cos(b^{*}, a^{*})}{cos(b^{*}, a)+\\epsilon)} \n",
    "\\end{equation*}\n",
    "\n",
    "donde $\\epsilon$=0.0001 y es usado para prevenir división la división por cero. 3CosMul requiere que todas las similitudes sean no negativas, para lo cual transforma la similitud coseno a rango [0, 1], usando $\\overline{cos(x,y)} = \\frac{cos(x,y)+1}{2}$.\n",
    "\n",
    "<img src='img/w2vec_analogy.png'>\n"
   ]
  },
  {
   "cell_type": "code",
   "execution_count": 7,
   "metadata": {},
   "outputs": [],
   "source": [
    "@jit\n",
    "def norm_cos(x,y):\n",
    "    return (cos(x,y)+1)/2\n",
    "@jit\n",
    "def cosmul(b_, b, a_, a, epsilon):\n",
    "    return norm_cos(b_, b)*norm_cos(b_, a_)/(norm_cos(b_, a)+epsilon)\n",
    "\n",
    "def most_similar_cosmul(b, a_, a, topn):\n",
    "    \"\"\" \n",
    "    3CosMul: Medida de similitud utilizada para responder preguntas de analogías\n",
    "    \n",
    "    En analogías se tiene un conjunto b_, b (ej:reina, rey) y a_, a (ej:mujer, hombre), la intuición es que \n",
    "    b_-b es similar a a_-a y que la operación b-a+a_ debe dar un vector similar a b_, en busqueda de analogías \n",
    "    se busca la palabra b_ que máximiza 3CosMul.\n",
    "    \n",
    "    Entrega los n_tops resultados más similares como una lista de tuplas:\n",
    "    \n",
    "    Ejemplo::\n",
    "    \n",
    "    >>> cos_mul('rey', 'mujer', 'hombre', 5)\n",
    "\n",
    "        [('reina', 0.9140047562223514),\n",
    "         ('rey', 0.9061936251090417),\n",
    "         ('infanta', 0.8581019619488603),\n",
    "         ('berenguela', 0.8469323337883055),\n",
    "         ('princesa', 0.8443721928290459)]\n",
    "\n",
    "    \"\"\"\n",
    "   \n",
    "    #Conjunto de palabras donde se realizará la query\n",
    "    words_list = set(wordvectors.index2word)\n",
    "    words_list = words_list.difference({b, a_, a}) #eliminar palabras usadas en la query de la búsqueda\n",
    "    \n",
    "    \n",
    "    #vectores de las palabras de la query\n",
    "    b = wordvectors[b]\n",
    "    a_ = wordvectors[a_]\n",
    "    a = wordvectors[a]\n",
    "    \n",
    "    epsilon  = 0.0001 #para evitar divisiones por cero\n",
    "    \n",
    "    similarities_dict = {}\n",
    "    for word in words_list:\n",
    "        b_ = wordvectors[word] #vector de la palabra\n",
    "        #guardar similitud\n",
    "        similarities_dict[word] = cosmul(b_, b, a_, a, epsilon)\n",
    "    #ordenar diccionario por similitud y entregar los n resultados más similares\n",
    "    tops = sorted(similarities_dict.items(), key=operator.itemgetter(1), reverse = True)[:topn]   \n",
    "    return tops"
   ]
  },
  {
   "cell_type": "code",
   "execution_count": 23,
   "metadata": {},
   "outputs": [
    {
     "name": "stdout",
     "output_type": "stream",
     "text": [
      "Wall time: 12.8 s\n"
     ]
    },
    {
     "data": {
      "text/plain": [
       "[('reina', 0.9140044452635799),\n",
       " ('infanta', 0.8581010861951421),\n",
       " ('berenguela', 0.8469311264119546),\n",
       " ('princesa', 0.84437190578192),\n",
       " ('consorte', 0.8354707016195237)]"
      ]
     },
     "execution_count": 23,
     "metadata": {},
     "output_type": "execute_result"
    }
   ],
   "source": [
    "b = 'rey'\n",
    "a_ ='mujer'\n",
    "a = 'hombre'\n",
    "%time most_similar_cosmul(b, a_, a, 5)"
   ]
  },
  {
   "cell_type": "code",
   "execution_count": 24,
   "metadata": {},
   "outputs": [
    {
     "name": "stdout",
     "output_type": "stream",
     "text": [
      "Wall time: 5.95 s\n"
     ]
    },
    {
     "data": {
      "text/plain": [
       "[('reina', 0.914152979850769),\n",
       " ('infanta', 0.8582400679588318),\n",
       " ('berenguela', 0.8470717668533325),\n",
       " ('princesa', 0.8445038199424744),\n",
       " ('consorte', 0.8355995416641235),\n",
       " ('ranavalona', 0.8260708451271057),\n",
       " ('emperatriz', 0.8247671723365784),\n",
       " ('regente', 0.8239890336990356),\n",
       " ('infantas', 0.810472846031189),\n",
       " ('adelgunda', 0.8082677721977234)]"
      ]
     },
     "execution_count": 24,
     "metadata": {},
     "output_type": "execute_result"
    }
   ],
   "source": [
    "#implementación de gensim\n",
    "%time wordvectors.most_similar_cosmul(positive=['rey','mujer'],negative=['hombre'])"
   ]
  },
  {
   "cell_type": "code",
   "execution_count": 25,
   "metadata": {},
   "outputs": [
    {
     "data": {
      "text/plain": [
       "[('actriz', 0.9687132835388184),\n",
       " ('compositora', 0.8557142019271851),\n",
       " ('actríz', 0.8530595302581787),\n",
       " ('cantante', 0.848200261592865),\n",
       " ('actrices', 0.8459416627883911),\n",
       " ('exactriz', 0.8435853123664856),\n",
       " ('dramaturga', 0.8354865908622742),\n",
       " ('presentadora', 0.8346391320228577),\n",
       " ('bailarina', 0.8301040530204773),\n",
       " ('coprotagonista', 0.8284390568733215)]"
      ]
     },
     "execution_count": 25,
     "metadata": {},
     "output_type": "execute_result"
    }
   ],
   "source": [
    "wordvectors.most_similar_cosmul(positive=['actor','mujer'],negative=['hombre'])"
   ]
  },
  {
   "cell_type": "code",
   "execution_count": 65,
   "metadata": {},
   "outputs": [
    {
     "data": {
      "text/plain": [
       "[('jugando', 1.0274837017059326),\n",
       " ('disputar', 1.017614722251892),\n",
       " ('jugara', 1.0169914960861206),\n",
       " ('entrenar', 1.0103113651275635),\n",
       " ('juegar', 1.0084174871444702),\n",
       " ('jugarse', 1.0059778690338135),\n",
       " ('jugarlo', 1.001409888267517),\n",
       " ('jugarla', 1.0006508827209473),\n",
       " ('entrenarse', 0.9995086193084717),\n",
       " ('disputarlo', 0.9965963959693909)]"
      ]
     },
     "execution_count": 65,
     "metadata": {},
     "output_type": "execute_result"
    }
   ],
   "source": [
    "wordvectors.most_similar_cosmul(positive=['jugar','cantar'],negative=['cantaría'])"
   ]
  },
  {
   "cell_type": "code",
   "execution_count": 27,
   "metadata": {},
   "outputs": [
    {
     "data": {
      "text/plain": [
       "[('caracas', 0.9048649072647095),\n",
       " ('barinas', 0.8718462586402893),\n",
       " ('cojedes', 0.85147625207901),\n",
       " ('guanare', 0.8507247567176819),\n",
       " ('barquisimeto', 0.8451411724090576),\n",
       " ('caraballeda', 0.8443132638931274),\n",
       " ('aragua', 0.8427073955535889),\n",
       " ('maracaibo', 0.8378208875656128),\n",
       " ('miranda', 0.8358795046806335),\n",
       " ('zulia', 0.8357462286949158)]"
      ]
     },
     "execution_count": 27,
     "metadata": {},
     "output_type": "execute_result"
    }
   ],
   "source": [
    "wordvectors.most_similar_cosmul(positive=['santiago','venezuela'],negative=['chile'])"
   ]
  },
  {
   "cell_type": "markdown",
   "metadata": {},
   "source": [
    "#### Visualización de Words Embedding usando PCA"
   ]
  },
  {
   "cell_type": "code",
   "execution_count": 28,
   "metadata": {},
   "outputs": [
    {
     "name": "stderr",
     "output_type": "stream",
     "text": [
      "C:\\Users\\diego\\Anaconda3\\lib\\site-packages\\ipykernel_launcher.py:1: DeprecationWarning: Call to deprecated `__getitem__` (Method will be removed in 4.0.0, use self.wv.__getitem__() instead).\n",
      "  \"\"\"Entry point for launching an IPython kernel.\n"
     ]
    },
    {
     "name": "stdout",
     "output_type": "stream",
     "text": [
      "(855380, 300)\n"
     ]
    },
    {
     "data": {
      "text/plain": [
       "PCA(copy=True, iterated_power='auto', n_components=2, random_state=None,\n",
       "    svd_solver='auto', tol=0.0, whiten=False)"
      ]
     },
     "execution_count": 28,
     "metadata": {},
     "output_type": "execute_result"
    }
   ],
   "source": [
    "X = model[model.wv.vocab]\n",
    "print(X.shape)\n",
    "pca = PCA(n_components=2)\n",
    "pca.fit(X)"
   ]
  },
  {
   "cell_type": "code",
   "execution_count": 29,
   "metadata": {},
   "outputs": [
    {
     "data": {
      "image/png": "[encoded data removed]",
      "text/plain": [
       "<Figure size 432x288 with 1 Axes>"
      ]
     },
     "metadata": {
      "needs_background": "light"
     },
     "output_type": "display_data"
    }
   ],
   "source": [
    "words = ['santiago', 'caracas', 'venezuela', 'chile']\n",
    "words_to_transform = np.array([wordvectors[word] for word in words])\n",
    "words_transformed = pca.transform(words_to_transform)\n",
    "\n",
    "\n",
    "plt.scatter(words_transformed[:, 0], words_transformed[:, 1])\n",
    "for i, word in enumerate(words):\n",
    "    plt.annotate(word, xy = (words_transformed[i, 0], words_transformed[i, 1]))\n",
    "plt.show()"
   ]
  },
  {
   "cell_type": "code",
   "execution_count": 30,
   "metadata": {},
   "outputs": [
    {
     "data": {
      "image/png": "[encoded data removed]",
      "text/plain": [
       "<Figure size 432x288 with 1 Axes>"
      ]
     },
     "metadata": {
      "needs_background": "light"
     },
     "output_type": "display_data"
    }
   ],
   "source": [
    "words = ['jugar', 'cantar', 'jugaría', 'cantaría']\n",
    "words_to_transform = np.array([wordvectors[word] for word in words])\n",
    "words_transformed = pca.transform(words_to_transform)\n",
    "\n",
    "\n",
    "plt.scatter(words_transformed[:, 0], words_transformed[:, 1])\n",
    "for i, word in enumerate(words):\n",
    "    plt.annotate(word, xy = (words_transformed[i, 0], words_transformed[i, 1]))\n",
    "plt.show()"
   ]
  },
  {
   "cell_type": "code",
   "execution_count": 31,
   "metadata": {},
   "outputs": [
    {
     "data": {
      "image/png": "[encoded data removed]",
      "text/plain": [
       "<Figure size 432x288 with 1 Axes>"
      ]
     },
     "metadata": {
      "needs_background": "light"
     },
     "output_type": "display_data"
    }
   ],
   "source": [
    "words = ['abril', 'mayo', 'septiembre', 'julio', 'lunes', 'miércoles', 'viernes', 'martes']\n",
    "words_to_transform = np.array([wordvectors[word] for word in words])\n",
    "words_transformed = pca.transform(words_to_transform)\n",
    "\n",
    "\n",
    "plt.scatter(words_transformed[:, 0], words_transformed[:, 1])\n",
    "for i, word in enumerate(words):\n",
    "    plt.annotate(word, xy = (words_transformed[i, 0], words_transformed[i, 1]))\n",
    "plt.show()"
   ]
  },
  {
   "cell_type": "markdown",
   "metadata": {},
   "source": [
    "#### Búsqueda de términos excluidos\n",
    "\n",
    "Busca la palabra que está más lejos al resto de las palabras, para esto calcula la similitud coseno promedio de cada palabra versus el resto, la palabra con menor similitud promedio es el output."
   ]
  },
  {
   "cell_type": "code",
   "execution_count": 32,
   "metadata": {},
   "outputs": [
    {
     "name": "stderr",
     "output_type": "stream",
     "text": [
      "C:\\Users\\diego\\Anaconda3\\lib\\site-packages\\gensim\\models\\keyedvectors.py:730: FutureWarning: arrays to stack must be passed as a \"sequence\" type such as list or tuple. Support for non-sequence iterables such as generators is deprecated as of NumPy 1.16 and will raise an error in the future.\n",
      "  vectors = vstack(self.word_vec(word, use_norm=True) for word in used_words).astype(REAL)\n"
     ]
    },
    {
     "data": {
      "text/plain": [
       "'chile'"
      ]
     },
     "execution_count": 32,
     "metadata": {},
     "output_type": "execute_result"
    }
   ],
   "source": [
    "wordvectors.doesnt_match(['blanco','azul','rojo','chile'])"
   ]
  },
  {
   "cell_type": "code",
   "execution_count": 33,
   "metadata": {},
   "outputs": [
    {
     "data": {
      "text/plain": [
       "'martes'"
      ]
     },
     "execution_count": 33,
     "metadata": {},
     "output_type": "execute_result"
    }
   ],
   "source": [
    "wordvectors.doesnt_match(['abril', 'mayo', 'septiembre', 'martes', 'julio'])"
   ]
  },
  {
   "cell_type": "code",
   "execution_count": 34,
   "metadata": {},
   "outputs": [
    {
     "data": {
      "text/plain": [
       "'paris'"
      ]
     },
     "execution_count": 34,
     "metadata": {},
     "output_type": "execute_result"
    }
   ],
   "source": [
    "wordvectors.doesnt_match(['santiago', 'paris', 'talca', 'concepcion'])"
   ]
  },
  {
   "cell_type": "markdown",
   "metadata": {},
   "source": [
    "### 3.2 Similitud entre textos\n",
    "\n",
    "La similitud entre textos es una tarea más complicada que la similitud entre palabras, si bien se han entrenado redes neuronales con el objetivo de aprender directamente el vectore de una frase (phrase embedding), este no funciona muy bien, solo funciona en corpus grandes de frases cortas, además que son poco generalizables a diferencia de los word embedding."
   ]
  },
  {
   "cell_type": "markdown",
   "metadata": {},
   "source": [
    "### Agregación\n",
    "\n",
    "Una forma sencilla de obtener una representación vectorial de un documento a partir de los vectores de las palabras que lo conforman es agregarlos, por ejemplo, a partir del promedio. \n",
    "\n",
    "\n",
    "\\begin{equation*}\n",
    "V_{d}= \\sum_{i=1}^{n}v_{i}\n",
    "\\end{equation*}\n",
    "\n",
    "donde $v_{i}$ el vector de la palabra $i$ del documento $d$ y $V_{d}$ es el vector del documento (phrase vector).\n",
    "\n",
    "\n",
    "El problema de esto es que la agregación tienede a suavizar los vectores y la semántica se empieza a perder sobre todo en documentos con un gran número de palabras."
   ]
  },
  {
   "cell_type": "code",
   "execution_count": 8,
   "metadata": {},
   "outputs": [],
   "source": [
    "def vector_agregation(doc, vocabulary=None):\n",
    "    \"\"\"\n",
    "    Input: str, documento.\n",
    "    Output: np.array, Vector promedio de los vectores de palabras.\n",
    "    \n",
    "    \"\"\"\n",
    "    #tokenizar el documento\n",
    "    bog =  tokenizer(doc, stopwords_remove=True, vocabulary=vocabulary)\n",
    "    #matriz con los vectores, solo se obtienen vectores de palabras que están en el vocabulario\n",
    "    words_vectors = np.array([wordvectors[word] for word in bog ])\n",
    "    return words_vectors.mean(axis=0)\n",
    "\n",
    "def va_matrix(corpus, vocabulary=None):\n",
    "    \"\"\"\n",
    "    Vector Agregation Matrix\n",
    "    \n",
    "    Inputs: \n",
    "    1. corpus: list, recibe colección de documentos en formato str.\n",
    "    2. vocabulary: list, lista de tokens en formato str, sirve para filtrar tokens que no están en la lista.\n",
    "    \n",
    "    Output:\n",
    "    Corpus Matrix: np.ndarray, shape = (corpus_size, embed_size)\n",
    "    \"\"\"\n",
    "    matrix = np.array([vector_agregation(doc, vocabulary) for doc in corpus])\n",
    "    return matrix"
   ]
  },
  {
   "cell_type": "code",
   "execution_count": 36,
   "metadata": {},
   "outputs": [
    {
     "data": {
      "text/plain": [
       "['Empresarios admiten que inmigración ha provocado impacto en los salarios y en cifras de desempleo',\n",
       " 'Desocupación en el Bío Bío baja a 6,7%: administración pública y salud generaron nuevos empleos',\n",
       " 'Desempleo se mantiene por sobre el 7%',\n",
       " 'Habla director de Compin Bío Bío que se autoaprobó licencia: afirma que no se percató que era suya',\n",
       " 'Hombre de 65 años inventó aviso de bomba en un avión por insólita razón: quería cita con una azafata',\n",
       " 'Profesor desvinculado tras pedir leer a Lemebel será indemnizado: No puedo volver a Independencia']"
      ]
     },
     "execution_count": 36,
     "metadata": {},
     "output_type": "execute_result"
    }
   ],
   "source": [
    "docs_list"
   ]
  },
  {
   "cell_type": "code",
   "execution_count": 37,
   "metadata": {},
   "outputs": [
    {
     "data": {
      "text/html": [
       "<div>\n",
       "<style scoped>\n",
       "    .dataframe tbody tr th:only-of-type {\n",
       "        vertical-align: middle;\n",
       "    }\n",
       "\n",
       "    .dataframe tbody tr th {\n",
       "        vertical-align: top;\n",
       "    }\n",
       "\n",
       "    .dataframe thead th {\n",
       "        text-align: right;\n",
       "    }\n",
       "</style>\n",
       "<table border=\"1\" class=\"dataframe\">\n",
       "  <thead>\n",
       "    <tr style=\"text-align: right;\">\n",
       "      <th></th>\n",
       "      <th>0</th>\n",
       "      <th>1</th>\n",
       "      <th>2</th>\n",
       "      <th>3</th>\n",
       "      <th>4</th>\n",
       "      <th>5</th>\n",
       "    </tr>\n",
       "  </thead>\n",
       "  <tbody>\n",
       "    <tr>\n",
       "      <th>0</th>\n",
       "      <td>1.000000</td>\n",
       "      <td>0.676903</td>\n",
       "      <td>0.738754</td>\n",
       "      <td>0.444896</td>\n",
       "      <td>0.485055</td>\n",
       "      <td>0.484614</td>\n",
       "    </tr>\n",
       "    <tr>\n",
       "      <th>1</th>\n",
       "      <td>0.676903</td>\n",
       "      <td>1.000000</td>\n",
       "      <td>0.611990</td>\n",
       "      <td>0.558161</td>\n",
       "      <td>0.389183</td>\n",
       "      <td>0.431275</td>\n",
       "    </tr>\n",
       "    <tr>\n",
       "      <th>2</th>\n",
       "      <td>0.738754</td>\n",
       "      <td>0.611990</td>\n",
       "      <td>1.000000</td>\n",
       "      <td>0.344407</td>\n",
       "      <td>0.329750</td>\n",
       "      <td>0.374123</td>\n",
       "    </tr>\n",
       "    <tr>\n",
       "      <th>3</th>\n",
       "      <td>0.444896</td>\n",
       "      <td>0.558161</td>\n",
       "      <td>0.344407</td>\n",
       "      <td>1.000000</td>\n",
       "      <td>0.498772</td>\n",
       "      <td>0.614822</td>\n",
       "    </tr>\n",
       "    <tr>\n",
       "      <th>4</th>\n",
       "      <td>0.485055</td>\n",
       "      <td>0.389183</td>\n",
       "      <td>0.329750</td>\n",
       "      <td>0.498772</td>\n",
       "      <td>1.000000</td>\n",
       "      <td>0.650855</td>\n",
       "    </tr>\n",
       "    <tr>\n",
       "      <th>5</th>\n",
       "      <td>0.484614</td>\n",
       "      <td>0.431275</td>\n",
       "      <td>0.374123</td>\n",
       "      <td>0.614822</td>\n",
       "      <td>0.650855</td>\n",
       "      <td>1.000000</td>\n",
       "    </tr>\n",
       "  </tbody>\n",
       "</table>\n",
       "</div>"
      ],
      "text/plain": [
       "          0         1         2         3         4         5\n",
       "0  1.000000  0.676903  0.738754  0.444896  0.485055  0.484614\n",
       "1  0.676903  1.000000  0.611990  0.558161  0.389183  0.431275\n",
       "2  0.738754  0.611990  1.000000  0.344407  0.329750  0.374123\n",
       "3  0.444896  0.558161  0.344407  1.000000  0.498772  0.614822\n",
       "4  0.485055  0.389183  0.329750  0.498772  1.000000  0.650855\n",
       "5  0.484614  0.431275  0.374123  0.614822  0.650855  1.000000"
      ]
     },
     "execution_count": 37,
     "metadata": {},
     "output_type": "execute_result"
    }
   ],
   "source": [
    "pd.DataFrame(cos_matrix(va_matrix(docs_list)))"
   ]
  },
  {
   "cell_type": "code",
   "execution_count": 38,
   "metadata": {},
   "outputs": [
    {
     "data": {
      "text/html": [
       "<div>\n",
       "<style scoped>\n",
       "    .dataframe tbody tr th:only-of-type {\n",
       "        vertical-align: middle;\n",
       "    }\n",
       "\n",
       "    .dataframe tbody tr th {\n",
       "        vertical-align: top;\n",
       "    }\n",
       "\n",
       "    .dataframe thead th {\n",
       "        text-align: right;\n",
       "    }\n",
       "</style>\n",
       "<table border=\"1\" class=\"dataframe\">\n",
       "  <thead>\n",
       "    <tr style=\"text-align: right;\">\n",
       "      <th></th>\n",
       "      <th>0</th>\n",
       "      <th>1</th>\n",
       "      <th>2</th>\n",
       "      <th>3</th>\n",
       "      <th>4</th>\n",
       "      <th>5</th>\n",
       "    </tr>\n",
       "  </thead>\n",
       "  <tbody>\n",
       "    <tr>\n",
       "      <th>0</th>\n",
       "      <td>1.000000</td>\n",
       "      <td>0.361452</td>\n",
       "      <td>0.327760</td>\n",
       "      <td>0.303738</td>\n",
       "      <td>0.317443</td>\n",
       "      <td>0.300799</td>\n",
       "    </tr>\n",
       "    <tr>\n",
       "      <th>1</th>\n",
       "      <td>0.361452</td>\n",
       "      <td>1.000000</td>\n",
       "      <td>0.293338</td>\n",
       "      <td>0.347691</td>\n",
       "      <td>0.320648</td>\n",
       "      <td>0.305161</td>\n",
       "    </tr>\n",
       "    <tr>\n",
       "      <th>2</th>\n",
       "      <td>0.327760</td>\n",
       "      <td>0.293338</td>\n",
       "      <td>1.000000</td>\n",
       "      <td>0.249655</td>\n",
       "      <td>0.250963</td>\n",
       "      <td>0.248093</td>\n",
       "    </tr>\n",
       "    <tr>\n",
       "      <th>3</th>\n",
       "      <td>0.303738</td>\n",
       "      <td>0.347691</td>\n",
       "      <td>0.249655</td>\n",
       "      <td>1.000000</td>\n",
       "      <td>0.343468</td>\n",
       "      <td>0.347995</td>\n",
       "    </tr>\n",
       "    <tr>\n",
       "      <th>4</th>\n",
       "      <td>0.317443</td>\n",
       "      <td>0.320648</td>\n",
       "      <td>0.250963</td>\n",
       "      <td>0.343468</td>\n",
       "      <td>1.000000</td>\n",
       "      <td>0.364465</td>\n",
       "    </tr>\n",
       "    <tr>\n",
       "      <th>5</th>\n",
       "      <td>0.300799</td>\n",
       "      <td>0.305161</td>\n",
       "      <td>0.248093</td>\n",
       "      <td>0.347995</td>\n",
       "      <td>0.364465</td>\n",
       "      <td>1.000000</td>\n",
       "    </tr>\n",
       "  </tbody>\n",
       "</table>\n",
       "</div>"
      ],
      "text/plain": [
       "          0         1         2         3         4         5\n",
       "0  1.000000  0.361452  0.327760  0.303738  0.317443  0.300799\n",
       "1  0.361452  1.000000  0.293338  0.347691  0.320648  0.305161\n",
       "2  0.327760  0.293338  1.000000  0.249655  0.250963  0.248093\n",
       "3  0.303738  0.347691  0.249655  1.000000  0.343468  0.347995\n",
       "4  0.317443  0.320648  0.250963  0.343468  1.000000  0.364465\n",
       "5  0.300799  0.305161  0.248093  0.347995  0.364465  1.000000"
      ]
     },
     "execution_count": 38,
     "metadata": {},
     "output_type": "execute_result"
    }
   ],
   "source": [
    "pd.DataFrame(l2_similarity_matrix(va_matrix(docs_list)))"
   ]
  },
  {
   "cell_type": "markdown",
   "metadata": {},
   "source": [
    "En el caso de la similitud euclideana muestra que todos los documentos son casi igual de similares, por otro lado la similitud coseno no, en el caso de la primer documento los documentos más similares son el documento 3 y 2 (en ese orden), ambos hablan de desempleo y son de la categoría economía, además el margen de similitud entre estos documentos y los demás es mayor a diferencia de la similitud euclideana donde si bien los documentos más similares son los que hablan de desempleo el margen de similitud con los otros documentos es mínimo. Además el documeno 2 y el documento 4 ya no son tan similares como en el modelo bag-of-words, lo que es bueno, ya que lo único en común es la palabra 'bío'."
   ]
  },
  {
   "cell_type": "markdown",
   "metadata": {},
   "source": [
    "### Word Mover's Distance\n",
    "\n",
    "La representación vectorial de documentos no es una tarea sencilla a diferencia de las palabras, soluciones como agregación no funciona tan bien debido a que se pierde semántica y no es robusta a la cantidad de palabras, la solución a esto es utilizar medidas de distancias o similitud más elaboradas\n",
    "\n",
    "Word Mover's Distance (WMD) permite medir similitud (o disimilitud) entre documentos, utiliza dos ideas, la representación bag-of-words de un documento y word embedding.\n",
    "\n",
    "WMD busca minimizar el costo de transformar un documento a otro, para esto modelo el problema como un problema de flujo a costo mínimo (MCF).\n",
    "\n",
    "\\begin{align}\n",
    "\\nonumber\n",
    "\\underset{T}{\\text{minimize}}&\\sum_{i=1}^{m}\\sum_{j=1}^{n} c_{ij}T_{ij} \\\\ \\nonumber\n",
    "\\textrm{s.t.}\\qquad &\\sum_{j=1}^{m}T_{ij}= d_{i} \\; i=1, \\ldots, m\\\\ \\nonumber\n",
    "& \\sum_{i=1}^{n}T_{ij}= d_{j}^{'} \\; j=1, \\ldots, n\\\\ \\nonumber\n",
    "& T_{ij} \\geq 0,\\; i = 1, \\ldots, m, \\; j=1, \\ldots n.\\\\ \\nonumber\n",
    "\\end{align}\n",
    "\n",
    "Donde $T_{ij}$ es el flujo que va de la palabra $i$ del documento $d$ a la palabra $j$ del documento $d^{'}$, $d_{i}$ es el peso que tiene la palabra $i$ en la representación bag-of-words del documento $d$ (frecuencia normalizada por el número de palabras), $c_{ij}$ es el costo de mover una unidad de flujo por el arco $(i,j)$, el costo entre palabras se mide como la distancia 'l1' o 'l2' entre los embedding de dichas palabras. La primera restricción indica que el flujo que se mueve de una palabra $i$ del documento $d$ a todas las palabras del documento $d^{'}$ debe sumar su peso, la segunda restricción significa que el flujo que se mueve de una palabra $j$ del documento $d^{'}$ a todas las palabras del documento $d$ debe sumar su peso.\n",
    "\n",
    "\n",
    "\n",
    "<img src='img/wmd-obama.png'>\n",
    "\n",
    "\n",
    "https://vene.ro/blog/word-movers-distance-in-python.html\n",
    "\n",
    "\n",
    " - Kusner, M., Sun, Y., Kolkin, N., & Weinberger, K. (2015, June). From word embeddings to document distances. In International conference on machine learning (pp. 957-966)."
   ]
  },
  {
   "cell_type": "code",
   "execution_count": 9,
   "metadata": {},
   "outputs": [],
   "source": [
    "def wmd_matrix(docs_list):\n",
    "    wmd_matrix = np.zeros((len(docs_list), len(docs_list))) #matriz que guardará las distancias\n",
    "    bow = [tokenizer(doc, stopwords_remove=True) for doc in docs_list]   #lista con la representación bag-of-words de los docs\n",
    "    for i in range(len(docs_list)):\n",
    "        for j in range(len(docs_list)):\n",
    "            wmd_matrix[i,j] = wordvectors.wmdistance(bow[i], bow[j])\n",
    "    return wmd_matrix\n",
    "\n",
    "def wmd_sim_matrix(docs_list):\n",
    "    return 1/(1+ wmd_matrix(docs_list))"
   ]
  },
  {
   "cell_type": "code",
   "execution_count": 40,
   "metadata": {},
   "outputs": [
    {
     "data": {
      "text/html": [
       "<div>\n",
       "<style scoped>\n",
       "    .dataframe tbody tr th:only-of-type {\n",
       "        vertical-align: middle;\n",
       "    }\n",
       "\n",
       "    .dataframe tbody tr th {\n",
       "        vertical-align: top;\n",
       "    }\n",
       "\n",
       "    .dataframe thead th {\n",
       "        text-align: right;\n",
       "    }\n",
       "</style>\n",
       "<table border=\"1\" class=\"dataframe\">\n",
       "  <thead>\n",
       "    <tr style=\"text-align: right;\">\n",
       "      <th></th>\n",
       "      <th>title</th>\n",
       "      <th>category</th>\n",
       "    </tr>\n",
       "  </thead>\n",
       "  <tbody>\n",
       "    <tr>\n",
       "      <th>0</th>\n",
       "      <td>Empresarios admiten que inmigración ha provocado impacto en los salarios y en cifras de desempleo</td>\n",
       "      <td>Economia</td>\n",
       "    </tr>\n",
       "    <tr>\n",
       "      <th>1</th>\n",
       "      <td>Desocupación en el Bío Bío baja a 6,7%: administración pública y salud generaron nuevos empleos</td>\n",
       "      <td>Economia</td>\n",
       "    </tr>\n",
       "    <tr>\n",
       "      <th>2</th>\n",
       "      <td>Desempleo se mantiene por sobre el 7%</td>\n",
       "      <td>Economia</td>\n",
       "    </tr>\n",
       "    <tr>\n",
       "      <th>3</th>\n",
       "      <td>Habla director de Compin Bío Bío que se autoaprobó licencia: afirma que no se percató que era suya</td>\n",
       "      <td>Nacional</td>\n",
       "    </tr>\n",
       "    <tr>\n",
       "      <th>4</th>\n",
       "      <td>Hombre de 65 años inventó aviso de bomba en un avión por insólita razón: quería cita con una azafata</td>\n",
       "      <td>Sociedad</td>\n",
       "    </tr>\n",
       "    <tr>\n",
       "      <th>5</th>\n",
       "      <td>Profesor desvinculado tras pedir leer a Lemebel será indemnizado: No puedo volver a Independencia</td>\n",
       "      <td>Opinion</td>\n",
       "    </tr>\n",
       "  </tbody>\n",
       "</table>\n",
       "</div>"
      ],
      "text/plain": [
       "                                                                                                  title  \\\n",
       "0  Empresarios admiten que inmigración ha provocado impacto en los salarios y en cifras de desempleo      \n",
       "1  Desocupación en el Bío Bío baja a 6,7%: administración pública y salud generaron nuevos empleos        \n",
       "2  Desempleo se mantiene por sobre el 7%                                                                  \n",
       "3  Habla director de Compin Bío Bío que se autoaprobó licencia: afirma que no se percató que era suya     \n",
       "4  Hombre de 65 años inventó aviso de bomba en un avión por insólita razón: quería cita con una azafata   \n",
       "5  Profesor desvinculado tras pedir leer a Lemebel será indemnizado: No puedo volver a Independencia      \n",
       "\n",
       "   category  \n",
       "0  Economia  \n",
       "1  Economia  \n",
       "2  Economia  \n",
       "3  Nacional  \n",
       "4  Sociedad  \n",
       "5  Opinion   "
      ]
     },
     "execution_count": 40,
     "metadata": {},
     "output_type": "execute_result"
    }
   ],
   "source": [
    "docs_df"
   ]
  },
  {
   "cell_type": "code",
   "execution_count": 41,
   "metadata": {},
   "outputs": [
    {
     "data": {
      "text/html": [
       "<div>\n",
       "<style scoped>\n",
       "    .dataframe tbody tr th:only-of-type {\n",
       "        vertical-align: middle;\n",
       "    }\n",
       "\n",
       "    .dataframe tbody tr th {\n",
       "        vertical-align: top;\n",
       "    }\n",
       "\n",
       "    .dataframe thead th {\n",
       "        text-align: right;\n",
       "    }\n",
       "</style>\n",
       "<table border=\"1\" class=\"dataframe\">\n",
       "  <thead>\n",
       "    <tr style=\"text-align: right;\">\n",
       "      <th></th>\n",
       "      <th>0</th>\n",
       "      <th>1</th>\n",
       "      <th>2</th>\n",
       "      <th>3</th>\n",
       "      <th>4</th>\n",
       "      <th>5</th>\n",
       "    </tr>\n",
       "  </thead>\n",
       "  <tbody>\n",
       "    <tr>\n",
       "      <th>0</th>\n",
       "      <td>0.000000</td>\n",
       "      <td>4.401588</td>\n",
       "      <td>3.892745</td>\n",
       "      <td>4.923944</td>\n",
       "      <td>4.938878</td>\n",
       "      <td>5.037838</td>\n",
       "    </tr>\n",
       "    <tr>\n",
       "      <th>1</th>\n",
       "      <td>4.401588</td>\n",
       "      <td>0.000000</td>\n",
       "      <td>4.473415</td>\n",
       "      <td>3.878994</td>\n",
       "      <td>4.885281</td>\n",
       "      <td>5.034741</td>\n",
       "    </tr>\n",
       "    <tr>\n",
       "      <th>2</th>\n",
       "      <td>3.892745</td>\n",
       "      <td>4.473415</td>\n",
       "      <td>0.000000</td>\n",
       "      <td>5.009824</td>\n",
       "      <td>5.123511</td>\n",
       "      <td>5.167433</td>\n",
       "    </tr>\n",
       "    <tr>\n",
       "      <th>3</th>\n",
       "      <td>4.923944</td>\n",
       "      <td>3.878994</td>\n",
       "      <td>5.009824</td>\n",
       "      <td>0.000000</td>\n",
       "      <td>4.822329</td>\n",
       "      <td>4.807940</td>\n",
       "    </tr>\n",
       "    <tr>\n",
       "      <th>4</th>\n",
       "      <td>4.938878</td>\n",
       "      <td>4.885281</td>\n",
       "      <td>5.123511</td>\n",
       "      <td>4.822329</td>\n",
       "      <td>0.000000</td>\n",
       "      <td>4.899254</td>\n",
       "    </tr>\n",
       "    <tr>\n",
       "      <th>5</th>\n",
       "      <td>5.037838</td>\n",
       "      <td>5.034741</td>\n",
       "      <td>5.167433</td>\n",
       "      <td>4.807940</td>\n",
       "      <td>4.899254</td>\n",
       "      <td>0.000000</td>\n",
       "    </tr>\n",
       "  </tbody>\n",
       "</table>\n",
       "</div>"
      ],
      "text/plain": [
       "          0         1         2         3         4         5\n",
       "0  0.000000  4.401588  3.892745  4.923944  4.938878  5.037838\n",
       "1  4.401588  0.000000  4.473415  3.878994  4.885281  5.034741\n",
       "2  3.892745  4.473415  0.000000  5.009824  5.123511  5.167433\n",
       "3  4.923944  3.878994  5.009824  0.000000  4.822329  4.807940\n",
       "4  4.938878  4.885281  5.123511  4.822329  0.000000  4.899254\n",
       "5  5.037838  5.034741  5.167433  4.807940  4.899254  0.000000"
      ]
     },
     "execution_count": 41,
     "metadata": {},
     "output_type": "execute_result"
    }
   ],
   "source": [
    "pd.DataFrame(wmd_matrix(docs_list))"
   ]
  },
  {
   "cell_type": "code",
   "execution_count": 42,
   "metadata": {},
   "outputs": [
    {
     "data": {
      "text/html": [
       "<div>\n",
       "<style scoped>\n",
       "    .dataframe tbody tr th:only-of-type {\n",
       "        vertical-align: middle;\n",
       "    }\n",
       "\n",
       "    .dataframe tbody tr th {\n",
       "        vertical-align: top;\n",
       "    }\n",
       "\n",
       "    .dataframe thead th {\n",
       "        text-align: right;\n",
       "    }\n",
       "</style>\n",
       "<table border=\"1\" class=\"dataframe\">\n",
       "  <thead>\n",
       "    <tr style=\"text-align: right;\">\n",
       "      <th></th>\n",
       "      <th>0</th>\n",
       "      <th>1</th>\n",
       "      <th>2</th>\n",
       "      <th>3</th>\n",
       "      <th>4</th>\n",
       "      <th>5</th>\n",
       "    </tr>\n",
       "  </thead>\n",
       "  <tbody>\n",
       "    <tr>\n",
       "      <th>0</th>\n",
       "      <td>1.000000</td>\n",
       "      <td>0.185131</td>\n",
       "      <td>0.204384</td>\n",
       "      <td>0.168806</td>\n",
       "      <td>0.168382</td>\n",
       "      <td>0.165622</td>\n",
       "    </tr>\n",
       "    <tr>\n",
       "      <th>1</th>\n",
       "      <td>0.185131</td>\n",
       "      <td>1.000000</td>\n",
       "      <td>0.182701</td>\n",
       "      <td>0.204960</td>\n",
       "      <td>0.169915</td>\n",
       "      <td>0.165707</td>\n",
       "    </tr>\n",
       "    <tr>\n",
       "      <th>2</th>\n",
       "      <td>0.204384</td>\n",
       "      <td>0.182701</td>\n",
       "      <td>1.000000</td>\n",
       "      <td>0.166394</td>\n",
       "      <td>0.163305</td>\n",
       "      <td>0.162142</td>\n",
       "    </tr>\n",
       "    <tr>\n",
       "      <th>3</th>\n",
       "      <td>0.168806</td>\n",
       "      <td>0.204960</td>\n",
       "      <td>0.166394</td>\n",
       "      <td>1.000000</td>\n",
       "      <td>0.171753</td>\n",
       "      <td>0.172178</td>\n",
       "    </tr>\n",
       "    <tr>\n",
       "      <th>4</th>\n",
       "      <td>0.168382</td>\n",
       "      <td>0.169915</td>\n",
       "      <td>0.163305</td>\n",
       "      <td>0.171753</td>\n",
       "      <td>1.000000</td>\n",
       "      <td>0.169513</td>\n",
       "    </tr>\n",
       "    <tr>\n",
       "      <th>5</th>\n",
       "      <td>0.165622</td>\n",
       "      <td>0.165707</td>\n",
       "      <td>0.162142</td>\n",
       "      <td>0.172178</td>\n",
       "      <td>0.169513</td>\n",
       "      <td>1.000000</td>\n",
       "    </tr>\n",
       "  </tbody>\n",
       "</table>\n",
       "</div>"
      ],
      "text/plain": [
       "          0         1         2         3         4         5\n",
       "0  1.000000  0.185131  0.204384  0.168806  0.168382  0.165622\n",
       "1  0.185131  1.000000  0.182701  0.204960  0.169915  0.165707\n",
       "2  0.204384  0.182701  1.000000  0.166394  0.163305  0.162142\n",
       "3  0.168806  0.204960  0.166394  1.000000  0.171753  0.172178\n",
       "4  0.168382  0.169915  0.163305  0.171753  1.000000  0.169513\n",
       "5  0.165622  0.165707  0.162142  0.172178  0.169513  1.000000"
      ]
     },
     "execution_count": 42,
     "metadata": {},
     "output_type": "execute_result"
    }
   ],
   "source": [
    "pd.DataFrame(wmd_sim_matrix(docs_list))"
   ]
  },
  {
   "cell_type": "markdown",
   "metadata": {},
   "source": [
    "Existe una alta similitud entre los documentos que hablan de desempleo, sin embargo, los documentos con la palabra 'bio' tienen una alta similitud."
   ]
  },
  {
   "cell_type": "markdown",
   "metadata": {},
   "source": [
    "## 4. K-Nearest Neighbors\n",
    "\n",
    "Para evaluar la calidad de una técnica de recuperación de información se suele recurrir a aprendizaje supervisado y la tarea escogida es clasificación. En este caso contamos con noticias etiquetadas, entonces, un buen método de recuperación de información dada una noticia como query debiese retornar dentro de las $k$ noticias más similares noticias de la misma categoría.\n",
    "\n",
    "K-Nearest Neighbors es un modelo de clasificación el cual etiqueta una observación utilizando como input la etiqueta de las $k$ observaciones más cercanas que pertenecen al conjunto de entrenamiento, por ejemplo, si tomamos una noticia del conjunto de test y el número de vecinos a buscar es $k=10$ y el resultado de la búsqueda dió 8 noticias de la categoría Economía y 2 noticias de la categoría Nacional, entonces, la etiqueta para esta noticia es Economía.\n",
    "\n",
    "Cada método de recuperación de información se diferencia en el cálculo de una medida de similitud (o disimilitud) entre observaciones, por tanto, un mejor método de recuperación de información debiese tener un KNN con mejores métricas de desempeño.\n",
    "\n",
    "<img src='img/knn_example.png'>"
   ]
  },
  {
   "cell_type": "code",
   "execution_count": 10,
   "metadata": {},
   "outputs": [],
   "source": [
    "def plot_confusion_matrix(cm, classes, normalize=False, title='Confusion matrix', cmap=plt.cm.Blues):\n",
    "    \"\"\"\n",
    "    This function prints and plots the confusion matrix.\n",
    "    Normalization can be applied by setting `normalize=True`.\n",
    "    \"\"\"\n",
    "    plt.figure(figsize=(8,8))\n",
    "    plt.title(title)\n",
    "    tick_marks = np.arange(len(classes))\n",
    "    plt.xticks(tick_marks, classes, rotation=45)\n",
    "    plt.yticks(tick_marks, classes)\n",
    "\n",
    "    if normalize:\n",
    "        cm = cm.astype('float') / cm.sum(axis=1)[:, np.newaxis]\n",
    "        cm = np.round(cm, decimals=3)\n",
    "\n",
    "        print(\"Normalized confusion matrix\")\n",
    "    else:\n",
    "        print('Confusion matrix, without normalization')\n",
    "\n",
    "\n",
    "    thresh = cm.max() / 2.\n",
    "    for i, j in itertools.product(range(cm.shape[0]), range(cm.shape[1])):\n",
    "        plt.text(j, i, cm[i, j],\n",
    "                 horizontalalignment=\"center\",\n",
    "                 color=\"white\" if cm[i, j] > thresh else \"black\")\n",
    "    plt.imshow(cm, interpolation='nearest', cmap=cmap)\n",
    "\n",
    "    plt.colorbar()\n",
    "\n",
    "    plt.tight_layout()\n",
    "    plt.ylabel('True label')\n",
    "    plt.xlabel('Predicted label')\n",
    "    plt.show()"
   ]
  },
  {
   "cell_type": "code",
   "execution_count": 11,
   "metadata": {},
   "outputs": [],
   "source": [
    "#Definimos el conjunto de entrenamiento y test\n",
    "X_train, X_test, y_train, y_test = train_test_split(df.content, df.category, test_size=0.2, \n",
    "                                                    random_state=0, stratify= df.category)"
   ]
  },
  {
   "cell_type": "markdown",
   "metadata": {},
   "source": [
    "### 4.1 KNN - TFIDF"
   ]
  },
  {
   "cell_type": "code",
   "execution_count": 628,
   "metadata": {},
   "outputs": [],
   "source": [
    "#Creamos los objetos necesarios para el flujo de entrenamiento\n",
    "clf_knn = KNeighborsClassifier(metric='minkowski', p=2) #objeto clasificador\n",
    "parameters = {'n_neighbors': [1, 3, 5, 10, 15, 20, 30]}\n",
    "clf_knn_rcv = GridSearchCV(estimator = clf_knn, param_grid= parameters, cv=5, \n",
    "                                scoring = 'accuracy', iid =False, n_jobs=-1)\n",
    "tfidf_clf_knn = Pipeline([('vect', tfidf_vectorizer), ('clf', clf_knn_rcv)])#objeto pipeline"
   ]
  },
  {
   "cell_type": "code",
   "execution_count": 816,
   "metadata": {},
   "outputs": [
    {
     "name": "stdout",
     "output_type": "stream",
     "text": [
      "Wall time: 823 ms\n"
     ]
    },
    {
     "data": {
      "text/plain": [
       "{'n_neighbors': 30}"
      ]
     },
     "execution_count": 816,
     "metadata": {},
     "output_type": "execute_result"
    }
   ],
   "source": [
    "#entrenamiento\n",
    "%time tfidf_clf_knn.fit(X_train, y_train)\n",
    "tfidf_clf_knn['clf'].best_params_"
   ]
  },
  {
   "cell_type": "code",
   "execution_count": 818,
   "metadata": {},
   "outputs": [
    {
     "name": "stdout",
     "output_type": "stream",
     "text": [
      "Wall time: 143 ms\n",
      "               precision    recall  f1-score   support\n",
      "\n",
      "     Economia       0.80      0.90      0.85        40\n",
      "Internacional       0.85      0.82      0.84        40\n",
      "     Nacional       0.77      0.75      0.76        40\n",
      "      Opinion       0.75      0.75      0.75        40\n",
      "     Sociedad       0.92      0.85      0.88        40\n",
      "\n",
      "     accuracy                           0.81       200\n",
      "    macro avg       0.82      0.82      0.82       200\n",
      " weighted avg       0.82      0.81      0.82       200\n",
      "\n",
      "f1-score 0.8150224831014109 \n",
      "\n",
      "Normalized confusion matrix\n"
     ]
    },
    {
     "data": {
      "image/png": "[encoded data removed]",
      "text/plain": [
       "<Figure size 576x576 with 2 Axes>"
      ]
     },
     "metadata": {
      "needs_background": "light"
     },
     "output_type": "display_data"
    }
   ],
   "source": [
    "#test\n",
    "%time y_predicted = tfidf_clf_knn.predict(X_test)\n",
    "cm = confusion_matrix(y_test, y_predicted)\n",
    "class_report = classification_report(y_test, y_predicted) \n",
    "print(class_report)\n",
    "f1 = f1_score(y_test, y_predicted, average='macro') \n",
    "print('f1-score', f1, '\\n')\n",
    "plot_confusion_matrix(cm, [*tfidf_clf_knn.classes_], normalize=True) "
   ]
  },
  {
   "cell_type": "markdown",
   "metadata": {},
   "source": [
    "KNN con TF funciona pésimo y es debido a que las variables no estan normalizadas (solo frecuencia) y la distancia euclideana es bastante sensible a ese fenómeno, por tanto, es recomendable usar TF-IDF."
   ]
  },
  {
   "cell_type": "markdown",
   "metadata": {},
   "source": [
    "### 4.2 KNN-Words Embedding-Vectors Agregation"
   ]
  },
  {
   "cell_type": "code",
   "execution_count": 819,
   "metadata": {},
   "outputs": [
    {
     "name": "stdout",
     "output_type": "stream",
     "text": [
      "Wall time: 1.08 s\n",
      "Wall time: 269 ms\n"
     ]
    }
   ],
   "source": [
    "#Llevar los documentos a vectores\n",
    "%time V_train  = va_matrix([*X_train])\n",
    "%time V_test = va_matrix([*X_test])\n",
    "\n",
    "#Crear objeto clasificador\n",
    "parameters = {'n_neighbors': [1, 3, 5, 10, 15, 20, 30]}\n",
    "clf_vaknn = KNeighborsClassifier(metric='minkowski', p=2)\n",
    "clf_vaknn_rcv = GridSearchCV(estimator = clf_vaknn, param_grid= parameters, cv=5, \n",
    "                                scoring = 'accuracy', iid =False, n_jobs=-1)"
   ]
  },
  {
   "cell_type": "code",
   "execution_count": 820,
   "metadata": {},
   "outputs": [
    {
     "data": {
      "text/plain": [
       "{'n_neighbors': 5}"
      ]
     },
     "execution_count": 820,
     "metadata": {},
     "output_type": "execute_result"
    }
   ],
   "source": [
    "#Entrenamiento\n",
    "clf_vaknn_rcv.fit(V_train, y_train)\n",
    "clf_vaknn_rcv.best_params_"
   ]
  },
  {
   "cell_type": "code",
   "execution_count": 821,
   "metadata": {},
   "outputs": [
    {
     "name": "stdout",
     "output_type": "stream",
     "text": [
      "Wall time: 95.8 ms\n",
      "               precision    recall  f1-score   support\n",
      "\n",
      "     Economia       0.85      0.88      0.86        40\n",
      "Internacional       0.92      0.88      0.90        40\n",
      "     Nacional       0.85      0.72      0.78        40\n",
      "      Opinion       0.74      0.80      0.77        40\n",
      "     Sociedad       0.86      0.95      0.90        40\n",
      "\n",
      "     accuracy                           0.84       200\n",
      "    macro avg       0.85      0.85      0.84       200\n",
      " weighted avg       0.85      0.84      0.84       200\n",
      "\n",
      "f1-score 0.8442526908390363 \n",
      "\n",
      "Normalized confusion matrix\n"
     ]
    },
    {
     "data": {
      "image/png": "[encoded data removed]",
      "text/plain": [
       "<Figure size 576x576 with 2 Axes>"
      ]
     },
     "metadata": {
      "needs_background": "light"
     },
     "output_type": "display_data"
    }
   ],
   "source": [
    "#test\n",
    "%time y_predicted = clf_vaknn_rcv.predict(V_test)\n",
    "cm = confusion_matrix(y_test, y_predicted)\n",
    "class_report = classification_report(y_test, y_predicted) \n",
    "print(class_report)\n",
    "f1 = f1_score(y_test, y_predicted, average='macro') \n",
    "print('f1-score', f1, '\\n')\n",
    "plot_confusion_matrix(cm, [*clf_vaknn_rcv.classes_], normalize=True) "
   ]
  },
  {
   "cell_type": "markdown",
   "metadata": {},
   "source": [
    "### 4.3 KNN-Word Mover's Distance"
   ]
  },
  {
   "cell_type": "code",
   "execution_count": 12,
   "metadata": {},
   "outputs": [],
   "source": [
    "class WordMoversKNN(KNeighborsClassifier):\n",
    "    \"\"\"K nearest neighbors classifier using the Word Mover's Distance.\n",
    "\n",
    "    Parameters\n",
    "    ----------\n",
    "    \n",
    "    W_embed : array, shape: (vocab_size, embed_size)\n",
    "        Word embeddings precomputados sobre todo el vocabulario. \n",
    "\n",
    "    n_neighbors : int, optional (default = 5)\n",
    "        Número de vecinos más cercanos a buscar.\n",
    "\n",
    "    n_jobs : int, optional (default = 1)\n",
    "        El número de trabajos en paralelos para correr WMD.\n",
    "        Si es ``-1``, entonces el número de trabajos es el conjunto de cores del CPU\n",
    "    \n",
    "    verbose : int, optional\n",
    "        Controla la verbosidad; mientras mayor más mensajes (defaults = 0).\n",
    " \n",
    "    \n",
    "    \"\"\"\n",
    "    _pairwise = False\n",
    "\n",
    "    def __init__(self, W_embed, n_neighbors=1, n_jobs=1, verbose=False):\n",
    "        self.W_embed = W_embed\n",
    "        self.verbose = verbose\n",
    "        super(WordMoversKNN, self).__init__(n_neighbors=n_neighbors, n_jobs=n_jobs,\n",
    "                                            metric='precomputed', algorithm='brute')\n",
    "\n",
    "    def _wmd(self, i, row, X_train):\n",
    "        \"\"\"Computa WMD entre una muestra de training y una de test.\n",
    "        \n",
    "        Asume que `row` and X_train son sparse BOW vectors que suman 1.\n",
    "        \"\"\"\n",
    "        #subvocabulario: vocabulario entre X_train[i] y row\n",
    "        union_idx = np.union1d(X_train[i].indices, row.indices) \n",
    "        #word embeddings del subvocabulario\n",
    "        W_minimal = self.W_embed[union_idx]\n",
    "        #Matriz de distancias\n",
    "        W_dist = euclidean_distances(W_minimal).astype('float64')\n",
    "        #Vectores de pesos de X_train[i] sobre cada palabra del subvocabulario\n",
    "        bow_i = X_train[i, union_idx].A.ravel().astype('float64')\n",
    "        #Vectores de pesos de row sobre cada palabra del subvocabulario\n",
    "        bow_j = row[:, union_idx].A.ravel().astype('float64')\n",
    "        #Calcular Earth Mover's Distance\n",
    "        EMD = pyemd.emd(bow_i, bow_j, W_dist)\n",
    "        return EMD\n",
    "    \n",
    "    def _wmd_row(self, row, X_train):\n",
    "        \"\"\"Computa la WMD de una row contra todas las muestras de training.\n",
    "        \n",
    "        Asume que `row` y  X_train son sparse BOW vectors que suman 1.\n",
    "        \"\"\"\n",
    "        \n",
    "        n_samples_train = X_train.shape[0]\n",
    "        \n",
    "        return [self._wmd(i, row, X_train) for i in range(n_samples_train)]\n",
    "\n",
    "    def _pairwise_wmd(self, X_test, X_train=None):\n",
    "        \"\"\"Computa WMD entre todas las observaciones de test y training.\n",
    "        \n",
    "        Paraleliza sobre las filas de X_test.\n",
    "        \n",
    "        Asume que  X_train y X_test son sparse BOW vectors que suman 1.\n",
    "        \n",
    "        Parameters\n",
    "        ----------\n",
    "        X_test: scipy.sparse matrix, shape: (n_test_samples, vocab_size)\n",
    "            Test data.\n",
    "        \n",
    "        X_train: scipy.sparse matrix, shape: (n_train_samples, vocab_size)\n",
    "            Training data. Si `None`, usa las muestras de training guardadas\n",
    "            con el método fit().\n",
    "        \n",
    "        Returns\n",
    "        -------\n",
    "        dist : array, shape: (n_test_samples, n_train_samples)\n",
    "            Distancias entre todas las observaciones de test y las de training\n",
    "        \n",
    "        \"\"\"\n",
    "        n_samples_test = X_test.shape[0]\n",
    "        \n",
    "        if X_train is None:\n",
    "            X_train = self._fit_X\n",
    "        dist = Parallel(n_jobs=self.n_jobs, verbose=self.verbose)(\n",
    "                delayed(self._wmd_row)(test_sample, X_train) for test_sample in X_test)\n",
    "        \n",
    "\n",
    "        return np.array(dist)\n",
    "\n",
    "    def fit(self, X, y):\n",
    "        \"\"\"Ajusta el modelo usando X como training data e y como el target\n",
    "\n",
    "        Parameters\n",
    "        ----------\n",
    "        X : scipy sparse matrix, shape: (n_samples, n_features)\n",
    "            Training data. \n",
    "\n",
    "        y : {array-like, sparse matrix}\n",
    "            Shape del target= [n_samples] o [n_samples, n_outputs]\n",
    "\n",
    "        \"\"\"\n",
    "        X = check_array(X, accept_sparse='csr', copy=True)\n",
    "        X = normalize(X, norm='l1', copy=False)\n",
    "        return super(WordMoversKNN, self).fit(X, y)\n",
    "\n",
    "    def predict(self, X):\n",
    "        \"\"\" Predice la clase de las muestras dadas\n",
    "        \n",
    "        Parameters\n",
    "        ----------\n",
    "        X : scipy.sparse matrix, shape (n_test_samples, vocab_size)\n",
    "            Test data.\n",
    "\n",
    "        Returns\n",
    "        -------\n",
    "        y : array of shape [n_samples]\n",
    "            Clases de cada muestra de test.\n",
    "        \"\"\"\n",
    "        X = check_array(X, accept_sparse='csr', copy=True)\n",
    "        X = normalize(X, norm='l1', copy=False)\n",
    "        dist = self._pairwise_wmd(X)\n",
    "        return super(WordMoversKNN, self).predict(dist)"
   ]
  },
  {
   "cell_type": "code",
   "execution_count": 813,
   "metadata": {},
   "outputs": [],
   "source": [
    "##Extraer Vocabulario del corpus y obtener Bag-of-words\n",
    "args = {\"stopwords_remove\": True}\n",
    "tf_vectorizer = CountVectorizer(analyzer='word', tokenizer=lambda text: tokenizer(text, **args),\n",
    "                               max_df = 0.8, min_df = 5, dtype=np.double)\n",
    "V_train = tf_vectorizer.fit_transform(X_train)\n",
    "V_test = tf_vectorizer.transform(X_test)\n",
    "#Word Embeddings del vocabulario, shape = (vocab_size, embed_size)\n",
    "W_common = wordvectors[tf_vectorizer.get_feature_names()]"
   ]
  },
  {
   "cell_type": "code",
   "execution_count": 315,
   "metadata": {},
   "outputs": [
    {
     "data": {
      "text/plain": [
       "WordMoversKNN(W_embed=array([[-0.14031151, -0.20753914,  0.03012237, ..., -0.3987088 ,\n",
       "         0.07955857,  0.13012914],\n",
       "       [-0.21254775, -0.11851218,  0.00566428, ...,  0.2532203 ,\n",
       "        -0.03421209, -0.03902682],\n",
       "       [ 0.340734  ,  0.06898995, -0.02112304, ..., -0.13004391,\n",
       "         0.29562566, -0.16367702],\n",
       "       ...,\n",
       "       [-0.06634829, -0.0764029 , -0.11108457, ..., -0.00113491,\n",
       "        -0.00648511, -0.16716614],\n",
       "       [ 0.06110126, -0.31496903,  0.10805241, ..., -0.11313155,\n",
       "         0.23495366, -0.3076667 ],\n",
       "       [-0.25411254, -0.08672723,  0.26143506, ..., -0.08507044,\n",
       "        -0.10748048,  0.08197322]], dtype=float32),\n",
       "              n_jobs=-1, n_neighbors=10, verbose=5)"
      ]
     },
     "execution_count": 315,
     "metadata": {},
     "output_type": "execute_result"
    }
   ],
   "source": [
    "wmd_knn = WordMoversKNN(n_neighbors=10, W_embed=W_common, verbose=5, n_jobs=-1)\n",
    "wmd_knn.fit(V_train, y_train)"
   ]
  },
  {
   "cell_type": "code",
   "execution_count": 316,
   "metadata": {},
   "outputs": [
    {
     "name": "stderr",
     "output_type": "stream",
     "text": [
      "[Parallel(n_jobs=-1)]: Using backend LokyBackend with 4 concurrent workers.\n",
      "[Parallel(n_jobs=-1)]: Done  10 tasks      | elapsed:  5.2min\n",
      "[Parallel(n_jobs=-1)]: Done  64 tasks      | elapsed: 36.3min\n",
      "[Parallel(n_jobs=-1)]: Done 154 tasks      | elapsed: 79.5min\n",
      "[Parallel(n_jobs=-1)]: Done 200 out of 200 | elapsed: 108.6min finished\n"
     ]
    }
   ],
   "source": [
    "#Predicción\n",
    "y_predicted = wmd_knn.predict(V_test)"
   ]
  },
  {
   "cell_type": "code",
   "execution_count": 317,
   "metadata": {},
   "outputs": [
    {
     "name": "stdout",
     "output_type": "stream",
     "text": [
      "               precision    recall  f1-score   support\n",
      "\n",
      "     Economia       0.80      0.88      0.83        40\n",
      "Internacional       0.87      0.85      0.86        40\n",
      "     Nacional       0.91      0.75      0.82        40\n",
      "      Opinion       0.88      0.93      0.90        40\n",
      "     Sociedad       0.88      0.93      0.90        40\n",
      "\n",
      "     accuracy                           0.86       200\n",
      "    macro avg       0.87      0.86      0.86       200\n",
      " weighted avg       0.87      0.86      0.86       200\n",
      "\n",
      "f1-score 0.8641777368007771 \n",
      "\n",
      "Normalized confusion matrix\n"
     ]
    },
    {
     "data": {
      "image/png": "[encoded data removed]",
      "text/plain": [
       "<Figure size 576x576 with 2 Axes>"
      ]
     },
     "metadata": {
      "needs_background": "light"
     },
     "output_type": "display_data"
    }
   ],
   "source": [
    "#Evaluación\n",
    "cm = confusion_matrix(y_test, y_predicted)\n",
    "class_report = classification_report(y_test, y_predicted) \n",
    "print(class_report)\n",
    "f1 = f1_score(y_test, y_predicted, average='macro') \n",
    "print('f1-score', f1, '\\n')\n",
    "plot_confusion_matrix(cm, [*tfidf_clf_knn.classes_], normalize=True) "
   ]
  },
  {
   "cell_type": "markdown",
   "metadata": {},
   "source": [
    "## ¿Cuál sería el performance de los clasificadores si utilizamos como documentos los títulos de la noticia en vez del contenido?"
   ]
  },
  {
   "cell_type": "code",
   "execution_count": 13,
   "metadata": {},
   "outputs": [],
   "source": [
    "#Definimos el conjunto de entrenamiento y test\n",
    "X_train, X_test, y_train, y_test = train_test_split(df.title, df.category, test_size=0.2, \n",
    "                                                    random_state=0, stratify= df.category)"
   ]
  },
  {
   "cell_type": "markdown",
   "metadata": {},
   "source": [
    "### 1. KNN"
   ]
  },
  {
   "cell_type": "code",
   "execution_count": 735,
   "metadata": {},
   "outputs": [],
   "source": [
    "#Creamos los objetos necesarios para el flujo de entrenamiento\n",
    "args = {\"stopwords_remove\": True, \"stemming\":True}\n",
    "tfidf_vectorizer = TfidfVectorizer(analyzer='word', tokenizer=lambda text: tokenizer(text, **args), dtype=np.double)\n",
    "clf_knn = KNeighborsClassifier(metric='minkowski', p=2) #objeto clasificador\n",
    "parameters = {'n_neighbors': [1, 3, 5, 10, 15, 20, 30]}\n",
    "clf_knn_rcv = GridSearchCV(estimator = clf_knn, param_grid= parameters, cv=5, \n",
    "                                scoring = 'accuracy', iid =False, n_jobs=-1)\n",
    "tfidf_clf_knn = Pipeline([('vect', tfidf_vectorizer), ('clf', clf_knn_rcv)])#objeto pipeline"
   ]
  },
  {
   "cell_type": "code",
   "execution_count": 736,
   "metadata": {},
   "outputs": [
    {
     "data": {
      "text/plain": [
       "{'n_neighbors': 10}"
      ]
     },
     "execution_count": 736,
     "metadata": {},
     "output_type": "execute_result"
    }
   ],
   "source": [
    "#entrenamiento\n",
    "tfidf_clf_knn.fit(X_train, y_train)\n",
    "tfidf_clf_knn['clf'].best_params_"
   ]
  },
  {
   "cell_type": "code",
   "execution_count": 737,
   "metadata": {},
   "outputs": [
    {
     "name": "stdout",
     "output_type": "stream",
     "text": [
      "               precision    recall  f1-score   support\n",
      "\n",
      "     Economia       0.55      0.72      0.62        40\n",
      "Internacional       0.65      0.75      0.70        40\n",
      "     Nacional       0.52      0.72      0.60        40\n",
      "      Opinion       0.61      0.35      0.44        40\n",
      "     Sociedad       0.77      0.42      0.55        40\n",
      "\n",
      "     accuracy                           0.59       200\n",
      "    macro avg       0.62      0.59      0.58       200\n",
      " weighted avg       0.62      0.59      0.58       200\n",
      "\n",
      "f1-score 0.5836657080936901 \n",
      "\n",
      "Normalized confusion matrix\n"
     ]
    },
    {
     "data": {
      "image/png": "[encoded data removed]",
      "text/plain": [
       "<Figure size 576x576 with 2 Axes>"
      ]
     },
     "metadata": {
      "needs_background": "light"
     },
     "output_type": "display_data"
    }
   ],
   "source": [
    "#test\n",
    "y_predicted = tfidf_clf_knn.predict(X_test)\n",
    "cm = confusion_matrix(y_test, y_predicted)\n",
    "class_report = classification_report(y_test, y_predicted) \n",
    "print(class_report)\n",
    "f1 = f1_score(y_test, y_predicted, average='macro') \n",
    "print('f1-score', f1, '\\n')\n",
    "plot_confusion_matrix(cm, [*tfidf_clf_knn.classes_], normalize=True) "
   ]
  },
  {
   "cell_type": "markdown",
   "metadata": {},
   "source": [
    "### 2. KNN-Words Embedding-Vectors Agregation"
   ]
  },
  {
   "cell_type": "code",
   "execution_count": 738,
   "metadata": {},
   "outputs": [],
   "source": [
    "#Vectorizar los documentos\n",
    "V_train  = va_matrix([*X_train])\n",
    "V_test = va_matrix([*X_test])\n",
    "\n",
    "#Crear objeto clasificador\n",
    "parameters = {'n_neighbors': [1, 3, 5, 10, 15, 20, 30]}\n",
    "clf_vaknn = KNeighborsClassifier(metric='minkowski', p=2)\n",
    "clf_vaknn_rcv = GridSearchCV(estimator = clf_vaknn, param_grid= parameters, cv=5, \n",
    "                                scoring = 'accuracy', iid =False, n_jobs=-1)"
   ]
  },
  {
   "cell_type": "code",
   "execution_count": 739,
   "metadata": {},
   "outputs": [
    {
     "data": {
      "text/plain": [
       "{'n_neighbors': 10}"
      ]
     },
     "execution_count": 739,
     "metadata": {},
     "output_type": "execute_result"
    }
   ],
   "source": [
    "#Entrenamiento\n",
    "clf_vaknn_rcv.fit(V_train, y_train)\n",
    "clf_vaknn_rcv.best_params_"
   ]
  },
  {
   "cell_type": "code",
   "execution_count": 740,
   "metadata": {},
   "outputs": [
    {
     "name": "stdout",
     "output_type": "stream",
     "text": [
      "               precision    recall  f1-score   support\n",
      "\n",
      "     Economia       0.80      0.80      0.80        40\n",
      "Internacional       0.84      0.78      0.81        40\n",
      "     Nacional       0.64      0.75      0.69        40\n",
      "      Opinion       0.66      0.53      0.58        40\n",
      "     Sociedad       0.70      0.78      0.74        40\n",
      "\n",
      "     accuracy                           0.73       200\n",
      "    macro avg       0.73      0.72      0.72       200\n",
      " weighted avg       0.73      0.72      0.72       200\n",
      "\n",
      "f1-score 0.723255709807434 \n",
      "\n",
      "Normalized confusion matrix\n"
     ]
    },
    {
     "data": {
      "image/png": "[encoded data removed]",
      "text/plain": [
       "<Figure size 576x576 with 2 Axes>"
      ]
     },
     "metadata": {
      "needs_background": "light"
     },
     "output_type": "display_data"
    }
   ],
   "source": [
    "#test\n",
    "y_predicted = clf_vaknn_rcv.predict(V_test)\n",
    "cm = confusion_matrix(y_test, y_predicted)\n",
    "class_report = classification_report(y_test, y_predicted) \n",
    "print(class_report)\n",
    "f1 = f1_score(y_test, y_predicted, average='macro') \n",
    "print('f1-score', f1, '\\n')\n",
    "plot_confusion_matrix(cm, [*clf_vaknn_rcv.classes_], normalize=True) "
   ]
  },
  {
   "cell_type": "markdown",
   "metadata": {},
   "source": [
    "### 3. KNN-Word Mover's Distance"
   ]
  },
  {
   "cell_type": "code",
   "execution_count": 638,
   "metadata": {},
   "outputs": [],
   "source": [
    "##Extraer Vocabulario del corpus y obtener Bag-of-words\n",
    "args = {\"stopwords_remove\": True}\n",
    "tf_vectorizer = CountVectorizer(analyzer='word', tokenizer=lambda text: tokenizer(text, **args),dtype=np.double)\n",
    "V_train = tf_vectorizer.fit_transform(X_train)\n",
    "V_test = tf_vectorizer.transform(X_test)\n",
    "#Word Embeddings del vocabulario, shape = (vocab_size, embed_size)\n",
    "W_common = wordvectors[tf_vectorizer.get_feature_names()]"
   ]
  },
  {
   "cell_type": "code",
   "execution_count": 478,
   "metadata": {
    "scrolled": true
   },
   "outputs": [
    {
     "data": {
      "text/plain": [
       "WordMoversKNN(W_embed=array([[-0.18918236, -0.00135178,  0.26655632, ...,  0.35334012,\n",
       "         0.23554322, -0.12697455],\n",
       "       [ 0.07326967, -0.23255607,  0.12880574, ...,  0.44513834,\n",
       "         0.3175559 , -0.12400063],\n",
       "       [-0.1257686 , -0.152939  ,  0.1896213 , ...,  0.11439915,\n",
       "         0.10297456,  0.02691921],\n",
       "       ...,\n",
       "       [ 0.4381016 ,  0.28246856, -0.03977365, ..., -0.18427518,\n",
       "         0.30345577,  0.04963489],\n",
       "       [-0.04832516, -0.3364913 ,  0.01902405, ...,  0.01141455,\n",
       "         0.20672567, -0.20170781],\n",
       "       [ 0.06110126, -0.31496903,  0.10805241, ..., -0.11313155,\n",
       "         0.23495366, -0.3076667 ]], dtype=float32),\n",
       "              n_jobs=-1, n_neighbors=30, verbose=5)"
      ]
     },
     "execution_count": 478,
     "metadata": {},
     "output_type": "execute_result"
    }
   ],
   "source": [
    "wmd_knn = WordMoversKNN(n_neighbors=30, W_embed=W_common, verbose=5, n_jobs=-1)\n",
    "wmd_knn.fit(V_train, y_train)"
   ]
  },
  {
   "cell_type": "code",
   "execution_count": 479,
   "metadata": {
    "scrolled": true
   },
   "outputs": [
    {
     "name": "stderr",
     "output_type": "stream",
     "text": [
      "[Parallel(n_jobs=-1)]: Using backend LokyBackend with 4 concurrent workers.\n",
      "[Parallel(n_jobs=-1)]: Done  10 tasks      | elapsed:    2.8s\n",
      "[Parallel(n_jobs=-1)]: Done  64 tasks      | elapsed:   16.8s\n",
      "[Parallel(n_jobs=-1)]: Done 154 tasks      | elapsed:   43.4s\n",
      "[Parallel(n_jobs=-1)]: Done 200 out of 200 | elapsed:   55.4s finished\n"
     ]
    }
   ],
   "source": [
    "#Predicción\n",
    "y_predicted = wmd_knn.predict(V_test)"
   ]
  },
  {
   "cell_type": "code",
   "execution_count": 480,
   "metadata": {},
   "outputs": [
    {
     "name": "stdout",
     "output_type": "stream",
     "text": [
      "               precision    recall  f1-score   support\n",
      "\n",
      "     Economia       0.77      0.90      0.83        40\n",
      "Internacional       0.78      0.78      0.78        40\n",
      "     Nacional       0.77      0.57      0.66        40\n",
      "      Opinion       0.63      0.65      0.64        40\n",
      "     Sociedad       0.62      0.65      0.63        40\n",
      "\n",
      "     accuracy                           0.71       200\n",
      "    macro avg       0.71      0.71      0.71       200\n",
      " weighted avg       0.71      0.71      0.71       200\n",
      "\n",
      "f1-score 0.7071701428289597 \n",
      "\n",
      "Normalized confusion matrix\n"
     ]
    },
    {
     "data": {
      "image/png": "[encoded data removed]",
      "text/plain": [
       "<Figure size 576x576 with 2 Axes>"
      ]
     },
     "metadata": {
      "needs_background": "light"
     },
     "output_type": "display_data"
    }
   ],
   "source": [
    "#Evaluación\n",
    "cm = confusion_matrix(y_test, y_predicted)\n",
    "class_report = classification_report(y_test, y_predicted) \n",
    "print(class_report)\n",
    "f1 = f1_score(y_test, y_predicted, average='macro') \n",
    "print('f1-score', f1, '\\n')\n",
    "plot_confusion_matrix(cm, [*tfidf_clf_knn.classes_], normalize=True) "
   ]
  },
  {
   "cell_type": "markdown",
   "metadata": {},
   "source": [
    "## 5. Un simple búscador"
   ]
  },
  {
   "cell_type": "code",
   "execution_count": 16,
   "metadata": {},
   "outputs": [],
   "source": [
    "class Searcher(NearestNeighbors):\n",
    "    def __init__(self):\n",
    "        self.nbrs = NearestNeighbors(algorithm='ball_tree')\n",
    "        args = {\"stopwords_remove\": True}\n",
    "        \n",
    "    def fit(self, X_train, y_train):\n",
    "        #guardar conjunto de entrenamiento en formato original\n",
    "        self.X_train = X_train.tolist()\n",
    "        self.y_train = y_train.tolist()\n",
    "        #vectorizar conjunto de entrenamiento\n",
    "        V_train  = va_matrix(X_train)\n",
    "        self.nbrs.fit(V_train)\n",
    "    def search_knn(self, X_query, n_neighbors=5):\n",
    "        \"\"\"\n",
    "        Inputs:\n",
    "        1. X_query: str, documento de búsqueda.\n",
    "        2. n_neighbors: int, número de vecinos más cercanos a retornar.\n",
    "        \n",
    "        Outputs:\n",
    "        Retorna los n_neighbors documentos de entrenamiento (X_train) más similares a\n",
    "        X_query junto a su categoría (y_train).\n",
    "        \"\"\"\n",
    "        #vetorizar query usando Vector Agregation de los Word Embeddings de los documentos\n",
    "        V_query = va_matrix([X_query])\n",
    "        #obtener indices de los vecinos más cercanos\n",
    "        distances, indices = self.nbrs.kneighbors(V_query, n_neighbors=n_neighbors)\n",
    "        indices = list(indices[0])\n",
    "        #lista de tuplas con los k-vecinos más cercanos a la query [(doc_1, cat_1), ..., (doc_k, cat_k)]\n",
    "        results = [(self.y_train[i], self.X_train[i])for i in indices]\n",
    "        return results"
   ]
  },
  {
   "cell_type": "code",
   "execution_count": 17,
   "metadata": {},
   "outputs": [
    {
     "data": {
      "text/plain": [
       "('Nacional',\n",
       " '6 damnificados dejó incendio que destruyó una vivienda y dejó con daños a otra en Valdivia')"
      ]
     },
     "execution_count": 17,
     "metadata": {},
     "output_type": "execute_result"
    }
   ],
   "source": [
    "#query\n",
    "y_test.iloc[0], X_test.iloc[0]"
   ]
  },
  {
   "cell_type": "code",
   "execution_count": 19,
   "metadata": {},
   "outputs": [
    {
     "name": "stdout",
     "output_type": "stream",
     "text": [
      "Wall time: 0 ns\n"
     ]
    },
    {
     "data": {
      "text/plain": [
       "[('Nacional',\n",
       "  'Incendio en viviendas deja una mujer de 89 años fallecida y tres personas lesionadas en Viña del Mar'),\n",
       " ('Nacional',\n",
       "  'Incendio destruyó parcialmente un popular restaurante de comida china en Santiago'),\n",
       " ('Internacional',\n",
       "  'Explosión provoca incendio en refinería de petróleo en las cercanías de Houston: hay 37 lesionados')]"
      ]
     },
     "execution_count": 19,
     "metadata": {},
     "output_type": "execute_result"
    }
   ],
   "source": [
    "#resultado de búsqueda\n",
    "s = Searcher()\n",
    "s.fit(X_train, y_train)\n",
    "%time s.search_knn(X_query=X_test.iloc[0], n_neighbors=3)"
   ]
  },
  {
   "cell_type": "markdown",
   "metadata": {},
   "source": [
    "# Conclusiones\n",
    "\n",
    "\n",
    "En este capitulo comparamos tres métodos de recuperación de información basados en texto, el primero de ellos basados en bag-of-words  (BOW) y dos basados en words embedding, estos son vectors agregation (VA) y word mover's distance (WMD), el resumen de los resultados es el siguiente:\n",
    "\n",
    "1. Usando como corpus el cuerpo de las noticias WMD tiene un desempeño superior en KNN, le sigue VA y luego BOW, las accuracies son 86%, 84% y 81% respectivamente.\n",
    "2. Usando como el corpus el titulo de las noticias VA tiene un desempeño ligeramente superior a WMD y en último lugar BOW, las accuracies son 73%, 71% y 59% respectivamente.\n",
    "3. En documentos más cortos los métodos basados en words embedding tienen un desempeño notablemente superior (más de 10 puntos porcentuales).\n",
    "4. No  se obserban diferencias significativas entre VA y EMD en términos de métricas de precisión, siendo superior VA en documentos más cortos y EMD en documentos más largos.\n",
    "5. VA se alza como la mejor alternativa como método de recuperación de información, su accuracy es comparable al de EMD y es el método con menor tiempo de ejecución.\n",
    "6. Se concluye finalmente que EMD no es un método escalable para salir a producción en un buscador, debido al enorme tiempo de ejecución que requiere para computar distancias."
   ]
  }
 ],
 "metadata": {
  "kernelspec": {
   "display_name": "Python 3",
   "language": "python",
   "name": "python3"
  },
  "language_info": {
   "codemirror_mode": {
    "name": "ipython",
    "version": 3
   },
   "file_extension": ".py",
   "mimetype": "text/x-python",
   "name": "python",
   "nbconvert_exporter": "python",
   "pygments_lexer": "ipython3",
   "version": "3.7.3"
  },
  "latex_envs": {
   "LaTeX_envs_menu_present": true,
   "autoclose": false,
   "autocomplete": true,
   "bibliofile": "biblio.bib",
   "cite_by": "apalike",
   "current_citInitial": 1,
   "eqLabelWithNumbers": true,
   "eqNumInitial": 1,
   "hotkeys": {
    "equation": "Ctrl-E",
    "itemize": "Ctrl-I"
   },
   "labels_anchors": false,
   "latex_user_defs": false,
   "report_style_numbering": false,
   "user_envs_cfg": false
  }
 },
 "nbformat": 4,
 "nbformat_minor": 2
}
